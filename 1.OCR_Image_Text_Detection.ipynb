{
 "cells": [
  {
   "cell_type": "code",
   "execution_count": 34,
   "id": "915c7911",
   "metadata": {},
   "outputs": [
    {
     "data": {
      "text/plain": [
       "-1"
      ]
     },
     "execution_count": 34,
     "metadata": {},
     "output_type": "execute_result"
    }
   ],
   "source": [
    "import pytesseract\n",
    "import cv2\n",
    "img = cv2.imread('try.png')\n",
    "img = cv2.resize(img, (720, 480))\n",
    "cv2.imshow('Result', img)\n",
    "cv2.waitKey(0)"
   ]
  },
  {
   "cell_type": "code",
   "execution_count": 29,
   "id": "48b6518b",
   "metadata": {},
   "outputs": [],
   "source": [
    "pytesseract.pytesseract.tesseract_cmd = r\"C:\\Program Files\\Tesseract-OCR\\tesseract.exe\""
   ]
  },
  {
   "cell_type": "code",
   "execution_count": 35,
   "id": "7f40c1b8",
   "metadata": {},
   "outputs": [
    {
     "name": "stdout",
     "output_type": "stream",
     "text": [
      "FAILURE\n",
      "is\n",
      "NOT\n",
      "AN\n",
      "OPTION\n",
      "\n"
     ]
    },
    {
     "data": {
      "text/plain": [
       "-1"
      ]
     },
     "execution_count": 35,
     "metadata": {},
     "output_type": "execute_result"
    }
   ],
   "source": [
    "import pytesseract\n",
    "import cv2\n",
    "img = cv2.imread('try.png')\n",
    "img = cv2.resize(img, (600, 360))\n",
    "print(pytesseract.image_to_string(img))\n",
    "cv2.imshow('Result', img)\n",
    "cv2.waitKey(0)"
   ]
  },
  {
   "cell_type": "code",
   "execution_count": 31,
   "id": "9053fb5f",
   "metadata": {},
   "outputs": [],
   "source": [
    "pytesseract.pytesseract.tesseract_cmd = r\"C:\\Program Files\\Tesseract-OCR\\tesseract.exe\""
   ]
  },
  {
   "cell_type": "code",
   "execution_count": 36,
   "id": "d8c683ca",
   "metadata": {},
   "outputs": [
    {
     "name": "stdout",
     "output_type": "stream",
     "text": [
      "F 188 246 214 267 0\n",
      "A 216 246 253 267 0\n",
      "I 257 246 270 267 0\n",
      "L 276 246 303 267 0\n",
      "U 307 245 341 267 0\n",
      "R 347 246 381 267 0\n",
      "E 384 246 412 267 0\n",
      "i 277 220 290 241 0\n",
      "s 294 220 324 242 0\n",
      "N 242 194 279 216 0\n",
      "O 284 194 323 216 0\n",
      "T 326 194 358 216 0\n",
      "A 259 169 297 190 0\n",
      "N 300 169 337 190 0\n",
      "O 192 143 232 165 0\n",
      "P 236 143 268 165 0\n",
      "T 270 143 303 165 0\n",
      "I 307 143 320 165 0\n",
      "O 325 143 364 165 0\n",
      "N 369 143 405 165 0\n",
      "\n"
     ]
    },
    {
     "data": {
      "text/plain": [
       "-1"
      ]
     },
     "execution_count": 36,
     "metadata": {},
     "output_type": "execute_result"
    }
   ],
   "source": [
    "import pytesseract\n",
    "import cv2\n",
    "img = cv2.imread('try.png')\n",
    "img = cv2.resize(img, (600, 360))\n",
    "print(pytesseract.image_to_boxes(img))\n",
    "cv2.imshow('Result', img)\n",
    "cv2.waitKey(0)"
   ]
  },
  {
   "cell_type": "code",
   "execution_count": 37,
   "id": "011c0293",
   "metadata": {},
   "outputs": [
    {
     "name": "stdout",
     "output_type": "stream",
     "text": [
      "['F', '226', '328', '257', '356', '0']\n",
      "['A', '259', '328', '304', '356', '0']\n",
      "['I', '308', '328', '324', '356', '0']\n",
      "['L', '331', '328', '363', '356', '0']\n",
      "['U', '368', '327', '409', '356', '0']\n",
      "['R', '416', '328', '457', '356', '0']\n",
      "['E', '460', '328', '494', '356', '0']\n",
      "['i', '332', '293', '348', '322', '0']\n",
      "['S', '352', '293', '388', '322', '0']\n",
      "['N', '291', '259', '335', '287', '0']\n",
      "['O', '340', '259', '387', '288', '0']\n",
      "['T', '391', '259', '430', '287', '0']\n",
      "['A', '311', '225', '356', '254', '0']\n",
      "['N', '360', '225', '404', '254', '0']\n",
      "['O', '231', '190', '278', '220', '0']\n",
      "['P', '284', '191', '321', '220', '0']\n",
      "['T', '324', '191', '363', '219', '0']\n",
      "['I', '368', '191', '384', '219', '0']\n",
      "['O', '390', '190', '437', '220', '0']\n",
      "['N', '442', '191', '486', '219', '0']\n"
     ]
    },
    {
     "data": {
      "text/plain": [
       "-1"
      ]
     },
     "execution_count": 37,
     "metadata": {},
     "output_type": "execute_result"
    }
   ],
   "source": [
    "import pytesseract\n",
    "import cv2\n",
    "img = cv2.imread('try.png')\n",
    "img = cv2.resize(img, (720, 480))\n",
    "hImg, wImg, _ = img.shape\n",
    "\n",
    "boxes = pytesseract.image_to_boxes(img)\n",
    "\n",
    "for b in boxes.splitlines():\n",
    "    b = b.split(' ')\n",
    "    print(b)\n",
    "    x, y, w, h = int(b[1]), int(b[2]), int(b[3]), int(b[4])\n",
    "    cv2.rectangle(img, (x, hImg - y), (w, hImg - h), (50, 50, 255), 1)\n",
    "    cv2.putText(img, b[0], (x, hImg - y + 13), cv2.FONT_HERSHEY_SIMPLEX, 0.4, (50, 205, 50), 1)\n",
    "\n",
    "cv2.imshow('Detected text', img)\n",
    "cv2.waitKey(0)"
   ]
  },
  {
   "cell_type": "code",
   "execution_count": null,
   "id": "ee6dee91",
   "metadata": {},
   "outputs": [],
   "source": []
  }
 ],
 "metadata": {
  "kernelspec": {
   "display_name": "Python 3",
   "language": "python",
   "name": "python3"
  },
  "language_info": {
   "codemirror_mode": {
    "name": "ipython",
    "version": 3
   },
   "file_extension": ".py",
   "mimetype": "text/x-python",
   "name": "python",
   "nbconvert_exporter": "python",
   "pygments_lexer": "ipython3",
   "version": "3.8.8"
  }
 },
 "nbformat": 4,
 "nbformat_minor": 5
}
