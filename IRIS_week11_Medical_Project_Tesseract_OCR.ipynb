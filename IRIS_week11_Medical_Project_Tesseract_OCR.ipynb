{
  "nbformat": 4,
  "nbformat_minor": 0,
  "metadata": {
    "colab": {
      "provenance": [],
      "authorship_tag": "ABX9TyMJwg2ZMyugWLwFEUZ9/8pZ",
      "include_colab_link": true
    },
    "kernelspec": {
      "name": "python3",
      "display_name": "Python 3"
    },
    "language_info": {
      "name": "python"
    }
  },
  "cells": [
    {
      "cell_type": "markdown",
      "metadata": {
        "id": "view-in-github",
        "colab_type": "text"
      },
      "source": [
        "<a href=\"https://colab.research.google.com/github/radhakrishnan-omotec/ocr_repo/blob/main/IRIS_week11_Medical_Project_Tesseract_OCR.ipynb\" target=\"_parent\"><img src=\"https://colab.research.google.com/assets/colab-badge.svg\" alt=\"Open In Colab\"/></a>"
      ]
    },
    {
      "cell_type": "markdown",
      "source": [
        "# Mathematical Model Implementation\n",
        "\n",
        "Python code implementation of the mathematical model for calculating the final ingredient levels in a REDBULL ENERGY DRINK based on the provided ingredient levels and volumes:\n",
        "\n",
        "1. We define a `calculate_final_ingredient_levels` function that takes two lists as input: `ingredients` (initial ingredient levels in grams or milligrams) and `volumes` (volumes of each ingredient in milliliters).\n",
        "\n",
        "2. The function calculates the total volume and then calculates the final levels of each ingredient using the provided mathematical model.\n",
        "\n",
        "3. We specify the initial ingredient levels and volumes for REDBULL ENERGY DRINK in dictionaries.\n",
        "\n",
        "4. We call the `calculate_final_ingredient_levels` function with the ingredient and volume data, and it returns the final ingredient levels.\n",
        "\n",
        "5. Finally, we display the final ingredient levels for each ingredient in grams or milligrams.\n"
      ],
      "metadata": {
        "id": "k2_QB6DRRgX6"
      }
    },
    {
      "cell_type": "code",
      "source": [
        "!git clone https://github.com/radhakrishnan-omotec/ocr_repo.git"
      ],
      "metadata": {
        "id": "F6-nyFVxfaBZ",
        "outputId": "88ee858b-0ae0-4f0e-bf01-34760894bf2b",
        "colab": {
          "base_uri": "https://localhost:8080/"
        }
      },
      "execution_count": null,
      "outputs": [
        {
          "output_type": "stream",
          "name": "stdout",
          "text": [
            "Cloning into 'ocr_repo'...\n",
            "remote: Enumerating objects: 134, done.\u001b[K\n",
            "remote: Counting objects: 100% (49/49), done.\u001b[K\n",
            "remote: Compressing objects: 100% (49/49), done.\u001b[K\n",
            "remote: Total 134 (delta 28), reused 0 (delta 0), pack-reused 85\u001b[K\n",
            "Receiving objects: 100% (134/134), 23.48 MiB | 19.08 MiB/s, done.\n",
            "Resolving deltas: 100% (72/72), done.\n"
          ]
        }
      ]
    },
    {
      "cell_type": "markdown",
      "source": [
        "<hr><hr>"
      ],
      "metadata": {
        "id": "SgMYcC4j7TSr"
      }
    }
  ]
}