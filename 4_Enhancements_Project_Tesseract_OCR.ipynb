{
  "nbformat": 4,
  "nbformat_minor": 0,
  "metadata": {
    "colab": {
      "provenance": [],
      "authorship_tag": "ABX9TyP2qFkmm9Qd3+DGEqXnWcZn",
      "include_colab_link": true
    },
    "kernelspec": {
      "name": "python3",
      "display_name": "Python 3"
    },
    "language_info": {
      "name": "python"
    }
  },
  "cells": [
    {
      "cell_type": "markdown",
      "metadata": {
        "id": "view-in-github",
        "colab_type": "text"
      },
      "source": [
        "<a href=\"https://colab.research.google.com/github/radhakrishnan-omotec/ocr_repo/blob/main/4_Enhancements_Project_Tesseract_OCR.ipynb\" target=\"_parent\"><img src=\"https://colab.research.google.com/assets/colab-badge.svg\" alt=\"Open In Colab\"/></a>"
      ]
    },
    {
      "cell_type": "markdown",
      "source": [
        "# Enhancements 5 :"
      ],
      "metadata": {
        "id": "_hrchQppEca9"
      }
    },
    {
      "cell_type": "markdown",
      "source": [
        "**These below FIVE features can enhance the existing Eatsafe Project :**\n",
        "(http://www.eatsafes.ca/)\n"
      ],
      "metadata": {
        "id": "P8rYro7HEwSU"
      }
    },
    {
      "cell_type": "markdown",
      "source": [
        "- **1.\tInteractive Food Safety Checklist:**  Create an interactive checklist that allows users to assess their compliance with food safety standards. This feature can provide personalized recommendations based on the user's inputs.\n",
        "- **2.\tRecipe Analyzer:** Develop a tool that allows users to analyze recipes for potential food safety risks. It could check ingredients, cooking methods, and storage recommendations to ensure safe food handling practices.\n",
        "- **3.\tFood Safety Resources:** Compile and provide a comprehensive collection of resources, including guidelines, research papers, reports, and best practice documents related to food safety. Users can access these resources for reference and further study.\n",
        "- **4.\tRecipe Repository:** Create a repository of verified food-safe recipes that users can access. Include information on proper ingredient handling, cooking temperatures, and storage recommendations to promote safe cooking practices.\n",
        "- **5.\tFood Safety Alerts:** Implement a system that provides real-time alerts and notifications regarding food safety recalls, outbreaks, or any other critical information that could affect public health. Users can subscribe to these alerts to stay informed.\n"
      ],
      "metadata": {
        "id": "BW9nL8DzE1-b"
      }
    },
    {
      "cell_type": "markdown",
      "source": [
        "<hr>"
      ],
      "metadata": {
        "id": "S2AbaYaMFwed"
      }
    },
    {
      "cell_type": "markdown",
      "source": [
        "**ADDITIONAL ENHANCEMENT :**\n",
        "\n",
        "Creation of Interactive infographics Interactive Infographics: Present food safety information in the form of. These visually appealing graphics can help users understand and retain important concepts related to safe food handling."
      ],
      "metadata": {
        "id": "dP-OBqc_F1SQ"
      }
    },
    {
      "cell_type": "markdown",
      "source": [
        "<hr>"
      ],
      "metadata": {
        "id": "xezah-eIGH9R"
      }
    },
    {
      "cell_type": "markdown",
      "source": [
        "**STEP 1:** Clone the GIT Repository for Images"
      ],
      "metadata": {
        "id": "6Cap23r0Fs3F"
      }
    },
    {
      "cell_type": "code",
      "source": [
        "!git clone https://github.com/radhakrishnan-omotec/ocr_repo.git"
      ],
      "metadata": {
        "id": "F6-nyFVxfaBZ",
        "outputId": "ab73cec5-264d-4182-8d84-ab256186f83f",
        "colab": {
          "base_uri": "https://localhost:8080/"
        }
      },
      "execution_count": 7,
      "outputs": [
        {
          "output_type": "stream",
          "name": "stdout",
          "text": [
            "fatal: destination path 'ocr_repo' already exists and is not an empty directory.\n"
          ]
        }
      ]
    },
    {
      "cell_type": "markdown",
      "source": [
        "**STEP 2 :** INSTALLATION:\n",
        "\n",
        "\n",
        "Install the Tesseract-OCR & Pytesseract Module"
      ],
      "metadata": {
        "id": "5f0UoTG5GMHo"
      }
    },
    {
      "cell_type": "code",
      "source": [
        "!sudo apt install tesseract-ocr"
      ],
      "metadata": {
        "colab": {
          "base_uri": "https://localhost:8080/"
        },
        "id": "v-SqLI0lXjtq",
        "outputId": "f3cdc5a0-2752-482f-f0be-a658d9d79588"
      },
      "execution_count": 8,
      "outputs": [
        {
          "output_type": "stream",
          "name": "stdout",
          "text": [
            "Reading package lists... Done\n",
            "Building dependency tree... Done\n",
            "Reading state information... Done\n",
            "tesseract-ocr is already the newest version (4.1.1-2.1build1).\n",
            "0 upgraded, 0 newly installed, 0 to remove and 15 not upgraded.\n"
          ]
        }
      ]
    },
    {
      "cell_type": "code",
      "source": [
        "!pip install pytesseract"
      ],
      "metadata": {
        "colab": {
          "base_uri": "https://localhost:8080/"
        },
        "id": "ysV-EzCTXlZe",
        "outputId": "ec36450f-91d9-4d33-8e9d-520808e17965"
      },
      "execution_count": 9,
      "outputs": [
        {
          "output_type": "stream",
          "name": "stdout",
          "text": [
            "Requirement already satisfied: pytesseract in /usr/local/lib/python3.10/dist-packages (0.3.10)\n",
            "Requirement already satisfied: packaging>=21.3 in /usr/local/lib/python3.10/dist-packages (from pytesseract) (23.1)\n",
            "Requirement already satisfied: Pillow>=8.0.0 in /usr/local/lib/python3.10/dist-packages (from pytesseract) (9.4.0)\n"
          ]
        }
      ]
    },
    {
      "cell_type": "markdown",
      "source": [
        "**STEP 3 :** Import Libraries"
      ],
      "metadata": {
        "id": "m2o4SBksGghT"
      }
    },
    {
      "cell_type": "code",
      "source": [
        "import pytesseract\n",
        "import cv2\n",
        "import shutil\n",
        "import os\n",
        "import random\n",
        "try:\n",
        "    from PIL import Image\n",
        "except ImportError:\n",
        "    import Image"
      ],
      "metadata": {
        "id": "fVWWyF0EXsMo"
      },
      "execution_count": 10,
      "outputs": []
    },
    {
      "cell_type": "code",
      "source": [
        "from google.colab import files\n",
        "\n",
        "uploaded = files.upload()"
      ],
      "metadata": {
        "colab": {
          "base_uri": "https://localhost:8080/",
          "height": 73
        },
        "id": "2Ap6OmblXzyO",
        "outputId": "29f47390-307a-45c5-adb2-88881e3b2b07"
      },
      "execution_count": null,
      "outputs": [
        {
          "output_type": "display_data",
          "data": {
            "text/plain": [
              "<IPython.core.display.HTML object>"
            ],
            "text/html": [
              "\n",
              "     <input type=\"file\" id=\"files-441f0fb8-ad51-4322-9fcf-5243aaace77f\" name=\"files[]\" multiple disabled\n",
              "        style=\"border:none\" />\n",
              "     <output id=\"result-441f0fb8-ad51-4322-9fcf-5243aaace77f\">\n",
              "      Upload widget is only available when the cell has been executed in the\n",
              "      current browser session. Please rerun this cell to enable.\n",
              "      </output>\n",
              "      <script>// Copyright 2017 Google LLC\n",
              "//\n",
              "// Licensed under the Apache License, Version 2.0 (the \"License\");\n",
              "// you may not use this file except in compliance with the License.\n",
              "// You may obtain a copy of the License at\n",
              "//\n",
              "//      http://www.apache.org/licenses/LICENSE-2.0\n",
              "//\n",
              "// Unless required by applicable law or agreed to in writing, software\n",
              "// distributed under the License is distributed on an \"AS IS\" BASIS,\n",
              "// WITHOUT WARRANTIES OR CONDITIONS OF ANY KIND, either express or implied.\n",
              "// See the License for the specific language governing permissions and\n",
              "// limitations under the License.\n",
              "\n",
              "/**\n",
              " * @fileoverview Helpers for google.colab Python module.\n",
              " */\n",
              "(function(scope) {\n",
              "function span(text, styleAttributes = {}) {\n",
              "  const element = document.createElement('span');\n",
              "  element.textContent = text;\n",
              "  for (const key of Object.keys(styleAttributes)) {\n",
              "    element.style[key] = styleAttributes[key];\n",
              "  }\n",
              "  return element;\n",
              "}\n",
              "\n",
              "// Max number of bytes which will be uploaded at a time.\n",
              "const MAX_PAYLOAD_SIZE = 100 * 1024;\n",
              "\n",
              "function _uploadFiles(inputId, outputId) {\n",
              "  const steps = uploadFilesStep(inputId, outputId);\n",
              "  const outputElement = document.getElementById(outputId);\n",
              "  // Cache steps on the outputElement to make it available for the next call\n",
              "  // to uploadFilesContinue from Python.\n",
              "  outputElement.steps = steps;\n",
              "\n",
              "  return _uploadFilesContinue(outputId);\n",
              "}\n",
              "\n",
              "// This is roughly an async generator (not supported in the browser yet),\n",
              "// where there are multiple asynchronous steps and the Python side is going\n",
              "// to poll for completion of each step.\n",
              "// This uses a Promise to block the python side on completion of each step,\n",
              "// then passes the result of the previous step as the input to the next step.\n",
              "function _uploadFilesContinue(outputId) {\n",
              "  const outputElement = document.getElementById(outputId);\n",
              "  const steps = outputElement.steps;\n",
              "\n",
              "  const next = steps.next(outputElement.lastPromiseValue);\n",
              "  return Promise.resolve(next.value.promise).then((value) => {\n",
              "    // Cache the last promise value to make it available to the next\n",
              "    // step of the generator.\n",
              "    outputElement.lastPromiseValue = value;\n",
              "    return next.value.response;\n",
              "  });\n",
              "}\n",
              "\n",
              "/**\n",
              " * Generator function which is called between each async step of the upload\n",
              " * process.\n",
              " * @param {string} inputId Element ID of the input file picker element.\n",
              " * @param {string} outputId Element ID of the output display.\n",
              " * @return {!Iterable<!Object>} Iterable of next steps.\n",
              " */\n",
              "function* uploadFilesStep(inputId, outputId) {\n",
              "  const inputElement = document.getElementById(inputId);\n",
              "  inputElement.disabled = false;\n",
              "\n",
              "  const outputElement = document.getElementById(outputId);\n",
              "  outputElement.innerHTML = '';\n",
              "\n",
              "  const pickedPromise = new Promise((resolve) => {\n",
              "    inputElement.addEventListener('change', (e) => {\n",
              "      resolve(e.target.files);\n",
              "    });\n",
              "  });\n",
              "\n",
              "  const cancel = document.createElement('button');\n",
              "  inputElement.parentElement.appendChild(cancel);\n",
              "  cancel.textContent = 'Cancel upload';\n",
              "  const cancelPromise = new Promise((resolve) => {\n",
              "    cancel.onclick = () => {\n",
              "      resolve(null);\n",
              "    };\n",
              "  });\n",
              "\n",
              "  // Wait for the user to pick the files.\n",
              "  const files = yield {\n",
              "    promise: Promise.race([pickedPromise, cancelPromise]),\n",
              "    response: {\n",
              "      action: 'starting',\n",
              "    }\n",
              "  };\n",
              "\n",
              "  cancel.remove();\n",
              "\n",
              "  // Disable the input element since further picks are not allowed.\n",
              "  inputElement.disabled = true;\n",
              "\n",
              "  if (!files) {\n",
              "    return {\n",
              "      response: {\n",
              "        action: 'complete',\n",
              "      }\n",
              "    };\n",
              "  }\n",
              "\n",
              "  for (const file of files) {\n",
              "    const li = document.createElement('li');\n",
              "    li.append(span(file.name, {fontWeight: 'bold'}));\n",
              "    li.append(span(\n",
              "        `(${file.type || 'n/a'}) - ${file.size} bytes, ` +\n",
              "        `last modified: ${\n",
              "            file.lastModifiedDate ? file.lastModifiedDate.toLocaleDateString() :\n",
              "                                    'n/a'} - `));\n",
              "    const percent = span('0% done');\n",
              "    li.appendChild(percent);\n",
              "\n",
              "    outputElement.appendChild(li);\n",
              "\n",
              "    const fileDataPromise = new Promise((resolve) => {\n",
              "      const reader = new FileReader();\n",
              "      reader.onload = (e) => {\n",
              "        resolve(e.target.result);\n",
              "      };\n",
              "      reader.readAsArrayBuffer(file);\n",
              "    });\n",
              "    // Wait for the data to be ready.\n",
              "    let fileData = yield {\n",
              "      promise: fileDataPromise,\n",
              "      response: {\n",
              "        action: 'continue',\n",
              "      }\n",
              "    };\n",
              "\n",
              "    // Use a chunked sending to avoid message size limits. See b/62115660.\n",
              "    let position = 0;\n",
              "    do {\n",
              "      const length = Math.min(fileData.byteLength - position, MAX_PAYLOAD_SIZE);\n",
              "      const chunk = new Uint8Array(fileData, position, length);\n",
              "      position += length;\n",
              "\n",
              "      const base64 = btoa(String.fromCharCode.apply(null, chunk));\n",
              "      yield {\n",
              "        response: {\n",
              "          action: 'append',\n",
              "          file: file.name,\n",
              "          data: base64,\n",
              "        },\n",
              "      };\n",
              "\n",
              "      let percentDone = fileData.byteLength === 0 ?\n",
              "          100 :\n",
              "          Math.round((position / fileData.byteLength) * 100);\n",
              "      percent.textContent = `${percentDone}% done`;\n",
              "\n",
              "    } while (position < fileData.byteLength);\n",
              "  }\n",
              "\n",
              "  // All done.\n",
              "  yield {\n",
              "    response: {\n",
              "      action: 'complete',\n",
              "    }\n",
              "  };\n",
              "}\n",
              "\n",
              "scope.google = scope.google || {};\n",
              "scope.google.colab = scope.google.colab || {};\n",
              "scope.google.colab._files = {\n",
              "  _uploadFiles,\n",
              "  _uploadFilesContinue,\n",
              "};\n",
              "})(self);\n",
              "</script> "
            ]
          },
          "metadata": {}
        },
        {
          "output_type": "stream",
          "name": "stdout",
          "text": [
            "Saving Trainers_List.png to Trainers_List.png\n"
          ]
        }
      ]
    },
    {
      "cell_type": "markdown",
      "source": [
        "<hr>"
      ],
      "metadata": {
        "id": "SIY4au_a74Q-"
      }
    },
    {
      "cell_type": "markdown",
      "source": [
        "# ENHANCEMENT 1:\n",
        "\n",
        "**Interactive Food Safety Checklist:** Create an interactive checklist that allows users to assess their compliance with food safety standards. This feature can provide personalized recommendations based on the user's inputs.\n",
        "\n",
        "This Python code will present the user with a series of food safety questions. The user can respond with \"yes\" or \"no\" to each question. After answering all the questions, the code will calculate the user's score based on their responses and provide personalized recommendations accordingly.\n",
        "\n",
        "Creating an interactive food safety checklist using Python can be achieved through a simple console-based application. We will use the \"input\" function to gather user responses and provide personalized recommendations based on their inputs. Let's implement it:\n"
      ],
      "metadata": {
        "id": "PA_G2D3570Zc"
      }
    },
    {
      "cell_type": "code",
      "source": [
        "#Enhancement 1 in a Python Function food_safety_checklist():\n",
        "def food_safety_checklist():\n",
        "    print(\"Welcome to the Interactive Food Safety Checklist!\")\n",
        "    print(\"Please answer the following questions with 'yes' or 'no'.\\n\")\n",
        "\n",
        "    questions = [\n",
        "        \"Do you wash your hands before handling food?\",\n",
        "        \"Do you separate raw and cooked foods during storage?\",\n",
        "        \"Do you use different cutting boards for raw meats and vegetables?\",\n",
        "        \"Do you cook food to the recommended internal temperatures?\",\n",
        "        \"Do you refrigerate perishable foods promptly?\",\n",
        "        \"Do you check the expiration dates of food items before use?\",\n",
        "        \"Do you keep your kitchen and cooking utensils clean?\",\n",
        "        \"Do you use safe water for cooking and drinking?\",\n",
        "        \"Do you avoid eating raw or undercooked eggs, meat, and seafood?\",\n",
        "        \"Do you avoid cross-contamination by using separate utensils for different foods?\"\n",
        "    ]\n",
        "\n",
        "    score = 0\n",
        "    for i, question in enumerate(questions, 1):\n",
        "        answer = input(f\"{i}. {question} (yes/no): \").strip().lower()\n",
        "        if answer == \"yes\":\n",
        "            score += 1\n",
        "\n",
        "    print(\"\\nFood Safety Checklist Results:\")\n",
        "    print(f\"Total score: {score} out of {len(questions)}\")\n",
        "\n",
        "    if score == len(questions):\n",
        "        print(\"Congratulations! You have excellent food safety practices.\")\n",
        "    elif score >= len(questions) // 2:\n",
        "        print(\"You are doing well, but there is room for improvement.\")\n",
        "    else:\n",
        "        print(\"Please review the food safety guidelines and make necessary changes.\")\n",
        "\n",
        "#MAIN PROGRAM\n",
        "if __name__ == \"__main__\":\n",
        "    food_safety_checklist() #Call Function"
      ],
      "metadata": {
        "colab": {
          "base_uri": "https://localhost:8080/"
        },
        "id": "_DXZa6LKHafD",
        "outputId": "214cff6a-c3a7-4b52-de12-bd4aece9a37f"
      },
      "execution_count": 11,
      "outputs": [
        {
          "output_type": "stream",
          "name": "stdout",
          "text": [
            "Welcome to the Interactive Food Safety Checklist!\n",
            "Please answer the following questions with 'yes' or 'no'.\n",
            "\n",
            "1. Do you wash your hands before handling food? (yes/no): yes\n",
            "2. Do you separate raw and cooked foods during storage? (yes/no): yes\n",
            "3. Do you use different cutting boards for raw meats and vegetables? (yes/no): no\n",
            "4. Do you cook food to the recommended internal temperatures? (yes/no): no\n",
            "5. Do you refrigerate perishable foods promptly? (yes/no): yes\n",
            "6. Do you check the expiration dates of food items before use? (yes/no): yes\n",
            "7. Do you keep your kitchen and cooking utensils clean? (yes/no): yes\n",
            "8. Do you use safe water for cooking and drinking? (yes/no): yes\n",
            "9. Do you avoid eating raw or undercooked eggs, meat, and seafood? (yes/no): yes\n",
            "10. Do you avoid cross-contamination by using separate utensils for different foods? (yes/no): yes\n",
            "\n",
            "Food Safety Checklist Results:\n",
            "Total score: 8 out of 10\n",
            "You are doing well, but there is room for improvement.\n"
          ]
        }
      ]
    },
    {
      "cell_type": "markdown",
      "source": [
        "# ENHANCEMENT 2:\n",
        "\n",
        "**Recipe Analyzer:** To create a Recipe Analyzer tool in Python for checking potential food safety risks, we can use a simple console-based application. We will define a function that takes the recipe details as input and checks for possible food safety concerns. Let's implement it:\n",
        "After analyzing the recipe, the code prints the recipe name and any potential food safety risks detected. If there are no risks, it will indicate that the recipe follows food safety guidelines.\n",
        "In this Python code, the user is prompted to enter the recipe details, including the recipe name, ingredients, cooking methods, and storage recommendations. The code then checks for potential food safety risks based on the inputs. If the recipe contains raw meats, it checks if appropriate cooking methods are applied. It also checks if the storage recommendations include refrigeration for perishable items.\n"
      ],
      "metadata": {
        "id": "9Yj-nwTSHX5p"
      }
    },
    {
      "cell_type": "code",
      "source": [
        "#Enhancement 2 in a Python Function analyze_recipe():\n",
        "def analyze_recipe():\n",
        "    print(\"Welcome to the Recipe Analyzer!\")\n",
        "    print(\"Please enter the details of the recipe.\\n\")\n",
        "\n",
        "    recipe_name = input(\"Recipe Name: \")\n",
        "    ingredients = input(\"Ingredients (separated by commas): \").split(\",\")\n",
        "    cooking_methods = input(\"Cooking Methods (separated by commas): \").split(\",\")\n",
        "    storage_recommendations = input(\"Storage Recommendations: \")\n",
        "\n",
        "    # Check for potential food safety risks\n",
        "    food_safety_risks = []\n",
        "\n",
        "    # Check if raw meats are used and if proper cooking methods are applied\n",
        "    raw_meats = ['chicken', 'beef', 'pork', 'fish']\n",
        "    for ingredient in ingredients:\n",
        "        if any(meat in ingredient.lower() for meat in raw_meats):\n",
        "            if not any(cooking_method in cooking_methods for cooking_method in ['cook', 'grill', 'boil', 'bake']):\n",
        "                food_safety_risks.append(\"Use proper cooking methods for raw meats.\")\n",
        "            break\n",
        "\n",
        "    # Check if the storage recommendations are appropriate\n",
        "    if 'refrigerate' not in storage_recommendations.lower():\n",
        "        food_safety_risks.append(\"Remember to refrigerate perishable items.\")\n",
        "\n",
        "    # Print the analysis results\n",
        "    print(\"\\nRecipe Analysis Results:\")\n",
        "    print(f\"Recipe Name: {recipe_name}\")\n",
        "    print(\"Potential Food Safety Risks:\")\n",
        "    if len(food_safety_risks) > 0:\n",
        "        for risk in food_safety_risks:\n",
        "            print(f\"- {risk}\")\n",
        "    else:\n",
        "        print(\"None. The recipe follows food safety guidelines.\")\n",
        "\n",
        "# MAIN PROGRAM\n",
        "if __name__ == \"__main__\":\n",
        "    analyze_recipe()\n"
      ],
      "metadata": {
        "colab": {
          "base_uri": "https://localhost:8080/"
        },
        "id": "McWTGOeyIHRE",
        "outputId": "783f6551-048e-4fc4-ce8b-d7007ffdfe99"
      },
      "execution_count": 12,
      "outputs": [
        {
          "output_type": "stream",
          "name": "stdout",
          "text": [
            "Welcome to the Recipe Analyzer!\n",
            "Please enter the details of the recipe.\n",
            "\n",
            "Recipe Name: Chicken\n",
            "Ingredients (separated by commas): chicken , egg, masala powder\n",
            "Cooking Methods (separated by commas): boiling\n",
            "Storage Recommendations: cold storage\n",
            "\n",
            "Recipe Analysis Results:\n",
            "Recipe Name: Chicken\n",
            "Potential Food Safety Risks:\n",
            "- Use proper cooking methods for raw meats.\n",
            "- Remember to refrigerate perishable items.\n"
          ]
        }
      ]
    },
    {
      "cell_type": "markdown",
      "source": [
        "# ENHANCEMENT 3:\n",
        "\n",
        "**Food Safety Resources:** To implement the Food Safety Resources tool in Python, we can create a simple command-line application that allows users to access and explore the comprehensive collection of resources related to food safety. We'll organize the resources into categories and provide options for the user to choose a specific category for access. Here's the implementation:\n",
        "\n",
        "In this Python code, we have created a sample collection of food safety resources with four categories: Guidelines, Research Papers, Reports, and Best Practice Documents. The `display_resources()` function provides a user-friendly interface for accessing resources based on the user's selected category. The user can enter the number corresponding to the desired category, and the application will display the list of resources within that category. Entering 0 will exit the program.\n"
      ],
      "metadata": {
        "id": "kojzU9RKHylF"
      }
    },
    {
      "cell_type": "code",
      "source": [
        "#Enhancement 3 in a Python Function display_resources():\n",
        "# Sample collection of food safety resources\n",
        "food_safety_resources = {\n",
        "    \"Guidelines\": [\n",
        "        \"Food Safety Guidelines for Consumers\",\n",
        "        \"Food Safety Guidelines for Restaurants\",\n",
        "        \"Food Handling Guidelines for Home Cooks\",\n",
        "    ],\n",
        "    \"Research Papers\": [\n",
        "        \"A Comprehensive Review of Foodborne Illness Outbreaks\",\n",
        "        \"Impact of Food Safety Regulations on Public Health\",\n",
        "        \"Food Safety Trends and Challenges in the Food Industry\",\n",
        "    ],\n",
        "    \"Reports\": [\n",
        "        \"Annual Report on Food Safety Inspections\",\n",
        "        \"Global Food Safety Index Report\",\n",
        "        \"Food Safety Compliance Report\",\n",
        "    ],\n",
        "    \"Best Practice Documents\": [\n",
        "        \"Best Practices for Food Storage and Handling\",\n",
        "        \"Best Practices for Food Processing and Packaging\",\n",
        "        \"Best Practices for Food Safety Training\",\n",
        "    ]\n",
        "}\n",
        "\n",
        "\n",
        "def display_resources():\n",
        "    print(\"Welcome to Food Safety Resources!\")\n",
        "    print(\"Choose a category to access related resources:\\n\")\n",
        "\n",
        "    # Display available categories\n",
        "    for i, category in enumerate(food_safety_resources.keys(), 1):\n",
        "        print(f\"{i}. {category}\")\n",
        "\n",
        "    # Get user input for category selection\n",
        "    while True:\n",
        "        try:\n",
        "            choice = int(input(\"\\nEnter the number of the category (or 0 to exit): \"))\n",
        "            if choice == 0:\n",
        "                print(\"Thank you for using Food Safety Resources. Goodbye!\")\n",
        "                break\n",
        "            elif 1 <= choice <= len(food_safety_resources):\n",
        "                selected_category = list(food_safety_resources.keys())[choice - 1]\n",
        "                print(f\"\\nResources in the category '{selected_category}':\")\n",
        "                for resource in food_safety_resources[selected_category]:\n",
        "                    print(f\"- {resource}\")\n",
        "            else:\n",
        "                print(\"Invalid choice. Please enter a valid category number.\")\n",
        "        except ValueError:\n",
        "            print(\"Invalid input. Please enter a valid category number.\")\n",
        "\n",
        "#MAIN PROGRAM\n",
        "if __name__ == \"__main__\":\n",
        "    display_resources()"
      ],
      "metadata": {
        "colab": {
          "base_uri": "https://localhost:8080/",
          "height": 1000
        },
        "id": "9og-wAyzIT_p",
        "outputId": "ad17351d-328d-4c47-8e14-bbf3805f6df3"
      },
      "execution_count": 13,
      "outputs": [
        {
          "output_type": "stream",
          "name": "stdout",
          "text": [
            "Welcome to Food Safety Resources!\n",
            "Choose a category to access related resources:\n",
            "\n",
            "1. Guidelines\n",
            "2. Research Papers\n",
            "3. Reports\n",
            "4. Best Practice Documents\n",
            "\n",
            "Enter the number of the category (or 0 to exit): 1\n",
            "\n",
            "Resources in the category 'Guidelines':\n",
            "- Food Safety Guidelines for Consumers\n",
            "- Food Safety Guidelines for Restaurants\n",
            "- Food Handling Guidelines for Home Cooks\n",
            "\n",
            "Enter the number of the category (or 0 to exit): 3\n",
            "\n",
            "Resources in the category 'Reports':\n",
            "- Annual Report on Food Safety Inspections\n",
            "- Global Food Safety Index Report\n",
            "- Food Safety Compliance Report\n",
            "\n",
            "Enter the number of the category (or 0 to exit): 3\n",
            "\n",
            "Resources in the category 'Reports':\n",
            "- Annual Report on Food Safety Inspections\n",
            "- Global Food Safety Index Report\n",
            "- Food Safety Compliance Report\n",
            "\n",
            "Enter the number of the category (or 0 to exit): 2\n",
            "\n",
            "Resources in the category 'Research Papers':\n",
            "- A Comprehensive Review of Foodborne Illness Outbreaks\n",
            "- Impact of Food Safety Regulations on Public Health\n",
            "- Food Safety Trends and Challenges in the Food Industry\n",
            "\n",
            "Enter the number of the category (or 0 to exit): 1\n",
            "\n",
            "Resources in the category 'Guidelines':\n",
            "- Food Safety Guidelines for Consumers\n",
            "- Food Safety Guidelines for Restaurants\n",
            "- Food Handling Guidelines for Home Cooks\n",
            "\n",
            "Enter the number of the category (or 0 to exit): 1\n",
            "\n",
            "Resources in the category 'Guidelines':\n",
            "- Food Safety Guidelines for Consumers\n",
            "- Food Safety Guidelines for Restaurants\n",
            "- Food Handling Guidelines for Home Cooks\n"
          ]
        },
        {
          "output_type": "error",
          "ename": "KeyboardInterrupt",
          "evalue": "ignored",
          "traceback": [
            "\u001b[0;31m---------------------------------------------------------------------------\u001b[0m",
            "\u001b[0;31mKeyboardInterrupt\u001b[0m                         Traceback (most recent call last)",
            "\u001b[0;32m<ipython-input-13-670e13a9730b>\u001b[0m in \u001b[0;36m<cell line: 53>\u001b[0;34m()\u001b[0m\n\u001b[1;32m     52\u001b[0m \u001b[0;31m#MAIN PROGRAM\u001b[0m\u001b[0;34m\u001b[0m\u001b[0;34m\u001b[0m\u001b[0m\n\u001b[1;32m     53\u001b[0m \u001b[0;32mif\u001b[0m \u001b[0m__name__\u001b[0m \u001b[0;34m==\u001b[0m \u001b[0;34m\"__main__\"\u001b[0m\u001b[0;34m:\u001b[0m\u001b[0;34m\u001b[0m\u001b[0;34m\u001b[0m\u001b[0m\n\u001b[0;32m---> 54\u001b[0;31m     \u001b[0mdisplay_resources\u001b[0m\u001b[0;34m(\u001b[0m\u001b[0;34m)\u001b[0m\u001b[0;34m\u001b[0m\u001b[0;34m\u001b[0m\u001b[0m\n\u001b[0m",
            "\u001b[0;32m<ipython-input-13-670e13a9730b>\u001b[0m in \u001b[0;36mdisplay_resources\u001b[0;34m()\u001b[0m\n\u001b[1;32m     36\u001b[0m     \u001b[0;32mwhile\u001b[0m \u001b[0;32mTrue\u001b[0m\u001b[0;34m:\u001b[0m\u001b[0;34m\u001b[0m\u001b[0;34m\u001b[0m\u001b[0m\n\u001b[1;32m     37\u001b[0m         \u001b[0;32mtry\u001b[0m\u001b[0;34m:\u001b[0m\u001b[0;34m\u001b[0m\u001b[0;34m\u001b[0m\u001b[0m\n\u001b[0;32m---> 38\u001b[0;31m             \u001b[0mchoice\u001b[0m \u001b[0;34m=\u001b[0m \u001b[0mint\u001b[0m\u001b[0;34m(\u001b[0m\u001b[0minput\u001b[0m\u001b[0;34m(\u001b[0m\u001b[0;34m\"\\nEnter the number of the category (or 0 to exit): \"\u001b[0m\u001b[0;34m)\u001b[0m\u001b[0;34m)\u001b[0m\u001b[0;34m\u001b[0m\u001b[0;34m\u001b[0m\u001b[0m\n\u001b[0m\u001b[1;32m     39\u001b[0m             \u001b[0;32mif\u001b[0m \u001b[0mchoice\u001b[0m \u001b[0;34m==\u001b[0m \u001b[0;36m0\u001b[0m\u001b[0;34m:\u001b[0m\u001b[0;34m\u001b[0m\u001b[0;34m\u001b[0m\u001b[0m\n\u001b[1;32m     40\u001b[0m                 \u001b[0mprint\u001b[0m\u001b[0;34m(\u001b[0m\u001b[0;34m\"Thank you for using Food Safety Resources. Goodbye!\"\u001b[0m\u001b[0;34m)\u001b[0m\u001b[0;34m\u001b[0m\u001b[0;34m\u001b[0m\u001b[0m\n",
            "\u001b[0;32m/usr/local/lib/python3.10/dist-packages/ipykernel/kernelbase.py\u001b[0m in \u001b[0;36mraw_input\u001b[0;34m(self, prompt)\u001b[0m\n\u001b[1;32m    849\u001b[0m                 \u001b[0;34m\"raw_input was called, but this frontend does not support input requests.\"\u001b[0m\u001b[0;34m\u001b[0m\u001b[0;34m\u001b[0m\u001b[0m\n\u001b[1;32m    850\u001b[0m             )\n\u001b[0;32m--> 851\u001b[0;31m         return self._input_request(str(prompt),\n\u001b[0m\u001b[1;32m    852\u001b[0m             \u001b[0mself\u001b[0m\u001b[0;34m.\u001b[0m\u001b[0m_parent_ident\u001b[0m\u001b[0;34m,\u001b[0m\u001b[0;34m\u001b[0m\u001b[0;34m\u001b[0m\u001b[0m\n\u001b[1;32m    853\u001b[0m             \u001b[0mself\u001b[0m\u001b[0;34m.\u001b[0m\u001b[0m_parent_header\u001b[0m\u001b[0;34m,\u001b[0m\u001b[0;34m\u001b[0m\u001b[0;34m\u001b[0m\u001b[0m\n",
            "\u001b[0;32m/usr/local/lib/python3.10/dist-packages/ipykernel/kernelbase.py\u001b[0m in \u001b[0;36m_input_request\u001b[0;34m(self, prompt, ident, parent, password)\u001b[0m\n\u001b[1;32m    893\u001b[0m             \u001b[0;32mexcept\u001b[0m \u001b[0mKeyboardInterrupt\u001b[0m\u001b[0;34m:\u001b[0m\u001b[0;34m\u001b[0m\u001b[0;34m\u001b[0m\u001b[0m\n\u001b[1;32m    894\u001b[0m                 \u001b[0;31m# re-raise KeyboardInterrupt, to truncate traceback\u001b[0m\u001b[0;34m\u001b[0m\u001b[0;34m\u001b[0m\u001b[0m\n\u001b[0;32m--> 895\u001b[0;31m                 \u001b[0;32mraise\u001b[0m \u001b[0mKeyboardInterrupt\u001b[0m\u001b[0;34m(\u001b[0m\u001b[0;34m\"Interrupted by user\"\u001b[0m\u001b[0;34m)\u001b[0m \u001b[0;32mfrom\u001b[0m \u001b[0;32mNone\u001b[0m\u001b[0;34m\u001b[0m\u001b[0;34m\u001b[0m\u001b[0m\n\u001b[0m\u001b[1;32m    896\u001b[0m             \u001b[0;32mexcept\u001b[0m \u001b[0mException\u001b[0m \u001b[0;32mas\u001b[0m \u001b[0me\u001b[0m\u001b[0;34m:\u001b[0m\u001b[0;34m\u001b[0m\u001b[0;34m\u001b[0m\u001b[0m\n\u001b[1;32m    897\u001b[0m                 \u001b[0mself\u001b[0m\u001b[0;34m.\u001b[0m\u001b[0mlog\u001b[0m\u001b[0;34m.\u001b[0m\u001b[0mwarning\u001b[0m\u001b[0;34m(\u001b[0m\u001b[0;34m\"Invalid Message:\"\u001b[0m\u001b[0;34m,\u001b[0m \u001b[0mexc_info\u001b[0m\u001b[0;34m=\u001b[0m\u001b[0;32mTrue\u001b[0m\u001b[0;34m)\u001b[0m\u001b[0;34m\u001b[0m\u001b[0;34m\u001b[0m\u001b[0m\n",
            "\u001b[0;31mKeyboardInterrupt\u001b[0m: Interrupted by user"
          ]
        }
      ]
    },
    {
      "cell_type": "markdown",
      "source": [
        "# ENHANCEMENT 4:\n",
        "\n",
        "**Recipe Repository:** To implement the Recipe Repository in Python, we can create a simple command-line interface that allows users to access and search for food-safe recipes. For this example, we'll use a dictionary to store the recipes, and each recipe will include information on ingredient handling, cooking temperatures, and storage recommendations. Here's the implementation:\n",
        "\n",
        "In this Python code, the `recipes` dictionary holds the information for each recipe. You can add more recipes to the dictionary as needed.\n",
        "\n",
        "The `display_recipe()` function takes the recipe name as input and displays the corresponding information on ingredient handling, cooking temperatures, and storage recommendations.\n",
        "\n",
        "The `search_recipes()` function takes an ingredient as input and searches for recipes that contain that ingredient. It then displays the names of the recipes containing the specified ingredient.\n",
        "\n",
        "The main loop allows users to choose between displaying a recipe, searching for recipes by ingredient, or exiting the Recipe Repository. The loop continues until the user chooses to exit the program.\n",
        "\n",
        "\n",
        "**IMPROVEMENTS:**\n",
        "You can further enhance this implementation by adding features like adding new recipes, editing existing recipes, and saving the recipe data to a file for persistence.\n",
        "\n"
      ],
      "metadata": {
        "id": "FOEv_Xk0H0Vt"
      }
    },
    {
      "cell_type": "code",
      "source": [
        "#Enhancement 4 Recipe Repository in Python:\n",
        "recipes = {\n",
        "    \"Pasta Carbonara\": {\n",
        "        \"ingredients\": [\"spaghetti\", \"eggs\", \"guanciale\", \"pecorino cheese\", \"black pepper\", \"salt\"],\n",
        "        \"cooking_temperature\": \"Medium heat\",\n",
        "        \"storage_recommendation\": \"Refrigerate leftovers within 2 hours.\"\n",
        "    },\n",
        "    \"Chicken Stir-Fry\": {\n",
        "        \"ingredients\": [\"chicken breast\", \"broccoli\", \"carrots\", \"bell peppers\", \"soy sauce\", \"garlic\", \"ginger\"],\n",
        "        \"cooking_temperature\": \"High heat\",\n",
        "        \"storage_recommendation\": \"Refrigerate leftovers within 2 hours.\"\n",
        "    },\n",
        "    \"Vegetable Salad\": {\n",
        "        \"ingredients\": [\"lettuce\", \"tomatoes\", \"cucumbers\", \"red onions\", \"olives\", \"feta cheese\", \"olive oil\"],\n",
        "        \"cooking_temperature\": \"No cooking required\",\n",
        "        \"storage_recommendation\": \"Refrigerate if not consumed immediately.\"\n",
        "    }\n",
        "}\n",
        "\n",
        "\n",
        "def display_recipe(recipe_name):\n",
        "    recipe = recipes.get(recipe_name)\n",
        "    if recipe:\n",
        "        print(f\"Recipe: {recipe_name}\")\n",
        "        print(\"Ingredients:\", \", \".join(recipe[\"ingredients\"]))\n",
        "        print(\"Cooking Temperature:\", recipe[\"cooking_temperature\"])\n",
        "        print(\"Storage Recommendation:\", recipe[\"storage_recommendation\"])\n",
        "    else:\n",
        "        print(f\"Recipe '{recipe_name}' not found in the repository.\")\n",
        "\n",
        "\n",
        "\n",
        "def search_recipes(ingredient):\n",
        "    found_recipes = []\n",
        "    for recipe_name, recipe in recipes.items():\n",
        "        if ingredient in recipe[\"ingredients\"]:\n",
        "            found_recipes.append(recipe_name)\n",
        "    if found_recipes:\n",
        "        print(f\"Recipes containing '{ingredient}':\")\n",
        "        for recipe_name in found_recipes:\n",
        "            print(\"-\", recipe_name)\n",
        "    else:\n",
        "        print(f\"No recipes containing '{ingredient}' found.\")\n",
        "\n",
        "\n",
        "\n",
        "# MAIN PROGRAM\n",
        "if __name__ == \"__main__\":\n",
        "    while True:\n",
        "        print(\"\\nRecipe Repository\")\n",
        "        print(\"1. Display Recipe\")\n",
        "        print(\"2. Search Recipes by Ingredient\")\n",
        "        print(\"3. Exit\")\n",
        "\n",
        "        choice = input(\"Enter your choice (1/2/3): \")\n",
        "\n",
        "        if choice == \"1\":\n",
        "            recipe_name = input(\"Enter the recipe name: \")\n",
        "            display_recipe(recipe_name)\n",
        "        elif choice == \"2\":\n",
        "            ingredient = input(\"Enter the ingredient to search for: \")\n",
        "            search_recipes(ingredient)\n",
        "        elif choice == \"3\":\n",
        "            print(\"Exiting Recipe Repository.\")\n",
        "            break\n",
        "        else:\n",
        "            print(\"Invalid choice. Please try again.\")\n"
      ],
      "metadata": {
        "id": "iZ8NFQqcJZWv"
      },
      "execution_count": null,
      "outputs": []
    },
    {
      "cell_type": "markdown",
      "source": [
        "# ENHANCEMENT 5:\n",
        "\n",
        "**Food Safety Alerts system:** To implement the Food Safety Alerts system in Python, we can use a combination of web scraping to fetch real-time data from reliable sources and a notification mechanism to send alerts to subscribed users. For this example, we'll use the `requests` library for web scraping and the `smtplib` library for sending email alerts. Note that in a production system, you may need to use a dedicated notification service for sending alerts. Here's the implementation:\n",
        "\n",
        "In this Python code, we assume that the `fetch_food_safety_alerts()` function fetches food safety alerts from a fictional data source represented by `ALERT_URL`. The data is expected to be in JSON format, but you can adapt the function to handle other data formats.\n",
        "\n",
        "The `send_alert_email()` function sends email alerts to the subscribed users with the relevant alert information. You need to provide your email credentials in the `SMTP_SERVER`, `SMTP_PORT`, `SENDER_EMAIL`, and `SENDER_PASSWORD` variables.\n",
        "\n",
        "The list of subscribed email addresses is stored in the `SUBSCRIBERS` list. When the `send_food_safety_alerts()` function is called, it fetches the latest alerts and sends email alerts to all subscribed users for each alert received. In a real-world implementation, you would likely use a more sophisticated notification system for sending alerts, such as push notifications for mobile devices."
      ],
      "metadata": {
        "id": "kJ5W74_TH2Gr"
      }
    },
    {
      "cell_type": "code",
      "source": [
        "import requests\n",
        "import smtplib\n",
        "from email.mime.text import MIMEText"
      ],
      "metadata": {
        "id": "dQAm7U-MKDEa"
      },
      "execution_count": null,
      "outputs": []
    },
    {
      "cell_type": "code",
      "source": [
        "# Sample data source (Food safety alert information example)\n",
        "ALERT_URL = \"https://www.foodsafety.gov/recalls-and-outbreaks\"\n",
        "\n",
        "# Email configuration (You need to provide your email credentials)\n",
        "SMTP_SERVER = \"smtp.example.com\"\n",
        "SMTP_PORT = 587\n",
        "SENDER_EMAIL = \"your_email@example.com\"\n",
        "SENDER_PASSWORD = \"your_email_password\"\n",
        "SUBJECT = \"Food Safety Alert\"\n",
        "\n",
        "# List of subscribed email addresses\n",
        "SUBSCRIBERS = [\"subscriber1@example.com\", \"subscriber2@example.com\", \"subscriber3@example.com\"]\n",
        "\n",
        "def fetch_food_safety_alerts():\n",
        "    try:\n",
        "        response = requests.get(ALERT_URL)\n",
        "        response.raise_for_status()  # Check for any request errors\n",
        "        return response.json()  # Assuming the data is in JSON format\n",
        "    except requests.RequestException as e:\n",
        "        print(\"Error while fetching food safety alerts:\", e)\n",
        "        return []\n",
        "\n",
        "def send_alert_email(subscriber_email, alert_info):\n",
        "    message = MIMEText(f\"Alert: {alert_info['title']}\\n\\n{alert_info['description']}\")\n",
        "    message[\"Subject\"] = SUBJECT\n",
        "    message[\"From\"] = SENDER_EMAIL\n",
        "    message[\"To\"] = subscriber_email\n",
        "\n",
        "    try:\n",
        "        with smtplib.SMTP(SMTP_SERVER, SMTP_PORT) as server:\n",
        "            server.starttls()\n",
        "            server.login(SENDER_EMAIL, SENDER_PASSWORD)\n",
        "            server.sendmail(SENDER_EMAIL, [subscriber_email], message.as_string())\n",
        "        print(f\"Alert sent to {subscriber_email}\")\n",
        "    except smtplib.SMTPException as e:\n",
        "        print(f\"Error sending email to {subscriber_email}: {e}\")\n",
        "\n",
        "def send_food_safety_alerts():\n",
        "    food_safety_alerts = fetch_food_safety_alerts()\n",
        "\n",
        "    if not food_safety_alerts:\n",
        "        print(\"No food safety alerts found.\")\n",
        "        return\n",
        "\n",
        "    for alert in food_safety_alerts:\n",
        "        for subscriber in SUBSCRIBERS:\n",
        "            send_alert_email(subscriber, alert)\n",
        "\n",
        "# MAIN PROGRAM\n",
        "if __name__ == \"__main__\":\n",
        "    send_food_safety_alerts()\n"
      ],
      "metadata": {
        "id": "BOgnPMauKGyG"
      },
      "execution_count": null,
      "outputs": []
    },
    {
      "cell_type": "markdown",
      "source": [
        "# ADDITIONAL ENHANCEMENT:\n",
        "\n",
        "**Interactive Food Safety Checklist:** Create an interactive checklist that allows users to assess their compliance with food safety standards. This feature can provide personalized recommendations based on the user's inputs.\n",
        "\n",
        "This Python code will present the user with a series of food safety questions. The user can respond with \"yes\" or \"no\" to each question. After answering all the questions, the code will calculate the user's score based on their responses and provide personalized recommendations accordingly.\n",
        "\n",
        "Creating an interactive food safety checklist using Python can be achieved through a simple console-based application. We will use the \"input\" function to gather user responses and provide personalized recommendations based on their inputs. Let's implement it:\n"
      ],
      "metadata": {
        "id": "fs9LuFSlH3z4"
      }
    },
    {
      "cell_type": "markdown",
      "source": [
        "This code defines a simple console-based application that presents the user with a series of food safety questions. The user can respond with \"yes\" or \"no\" to each question. After answering all the questions, the code calculates the user's score based on their responses and provides personalized recommendations accordingly. The recommendations are based on the total score achieved by the user.\n",
        "\n",
        "**NOTE:**\n",
        "\n",
        "\n",
        "You can enhance this to an App using the Appropriate Python Libraries. However this is currently Out of Scope for our Project.\n"
      ],
      "metadata": {
        "id": "XQhPtC__Lj9x"
      }
    },
    {
      "cell_type": "code",
      "source": [
        "# ADD.ENHANCEMENT:\n",
        "def get_user_response(question):\n",
        "    while True:\n",
        "        response = input(f\"{question} (yes/no): \").strip().lower()\n",
        "        if response in (\"yes\", \"no\"):\n",
        "            return response\n",
        "        else:\n",
        "            print(\"Please enter 'yes' or 'no'.\")\n",
        "\n",
        "def calculate_score(responses):\n",
        "    score = 0\n",
        "    for response in responses:\n",
        "        if response == \"yes\":\n",
        "            score += 1\n",
        "    return score\n",
        "\n",
        "def get_recommendations(score):\n",
        "    if score == 10:\n",
        "        return \"Great job! You are following all food safety standards.\"\n",
        "    elif score >= 7:\n",
        "        return \"Good work! You are mostly compliant with food safety standards. Consider reviewing the areas where you answered 'no'.\"\n",
        "    elif score >= 4:\n",
        "        return \"You are partially compliant with food safety standards. Review the checklist and make necessary improvements.\"\n",
        "    else:\n",
        "        return \"There are significant areas of non-compliance. Please review the checklist and make immediate changes to ensure food safety.\"\n",
        "\n",
        "def main():\n",
        "    print(\"Welcome to the Food Safety Checklist!\")\n",
        "\n",
        "    questions = [\n",
        "        \"Do you wash your hands before handling food?\",\n",
        "        \"Do you wash your hands after handling raw meat or eggs?\",\n",
        "        \"Do you store raw meats separately from other foods?\",\n",
        "        \"Do you regularly check the expiration dates of food products?\",\n",
        "        \"Do you use different cutting boards for raw meat and other foods?\",\n",
        "        \"Do you refrigerate perishable foods within two hours?\",\n",
        "        \"Do you thaw frozen food in the refrigerator or microwave?\",\n",
        "        \"Do you avoid tasting food with the same spoon you use for stirring?\",\n",
        "        \"Do you maintain proper hygiene while handling and preparing food?\",\n",
        "        \"Do you clean and sanitize kitchen surfaces regularly?\"\n",
        "    ]\n",
        "\n",
        "    responses = []\n",
        "    for question in questions:\n",
        "        response = get_user_response(question)\n",
        "        responses.append(response)\n",
        "\n",
        "    score = calculate_score(responses)\n",
        "\n",
        "    print(\"\\n--- Results ---\")\n",
        "    print(f\"Your food safety score: {score}/10\")\n",
        "    print(get_recommendations(score))\n",
        "\n",
        "# MAIN PROGRAM\n",
        "if __name__ == \"__main__\":\n",
        "    main()\n"
      ],
      "metadata": {
        "id": "fgnKFxV-LjT9"
      },
      "execution_count": null,
      "outputs": []
    },
    {
      "cell_type": "markdown",
      "source": [
        "<hr>"
      ],
      "metadata": {
        "id": "D4wfYPgSH8WG"
      }
    }
  ]
}