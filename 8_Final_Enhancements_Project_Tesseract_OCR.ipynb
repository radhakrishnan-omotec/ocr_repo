{
  "nbformat": 4,
  "nbformat_minor": 0,
  "metadata": {
    "colab": {
      "provenance": [],
      "authorship_tag": "ABX9TyMZwVT4gdO6gTFM3+jOVgcZ",
      "include_colab_link": true
    },
    "kernelspec": {
      "name": "python3",
      "display_name": "Python 3"
    },
    "language_info": {
      "name": "python"
    }
  },
  "cells": [
    {
      "cell_type": "markdown",
      "metadata": {
        "id": "view-in-github",
        "colab_type": "text"
      },
      "source": [
        "<a href=\"https://colab.research.google.com/github/radhakrishnan-omotec/ocr_repo/blob/main/8_Final_Enhancements_Project_Tesseract_OCR.ipynb\" target=\"_parent\"><img src=\"https://colab.research.google.com/assets/colab-badge.svg\" alt=\"Open In Colab\"/></a>"
      ]
    },
    {
      "cell_type": "markdown",
      "source": [
        "# IRIS Project - Final Enhancements -  OCR based Project :"
      ],
      "metadata": {
        "id": "_hrchQppEca9"
      }
    },
    {
      "cell_type": "markdown",
      "source": [
        "**These below features can enhance the existing Eatsafe Project :**\n",
        "\n",
        "(http://www.eatsafes.ca/)\n"
      ],
      "metadata": {
        "id": "P8rYro7HEwSU"
      }
    },
    {
      "cell_type": "markdown",
      "source": [
        "**Enhancement 1 : Mechanism to alert on high levels of certain substance**<br>\n",
        "**Enhancement 2 : Customize the alert level based on customers health profile**<br>\n",
        "**Enhancement 3 : Suggest alternate substitutes/products:**<br>\n",
        "**Enhancement 4 : Read expiry date and give proper suggestion:**<br>\n",
        "**Enhancement 5 : Food Safety Resources:**<br>"
      ],
      "metadata": {
        "id": "G6sKpar8R-Ol"
      }
    },
    {
      "cell_type": "markdown",
      "source": [
        "DATA VISUALIZATION:\n",
        "\n",
        "Sree saketh to choose 5 diffrent plot outputs from SEABORN and mention it\n",
        "Enhancement 1 - Plot1 , Plot2, Plot3, Plot4, Plot5"
      ],
      "metadata": {
        "id": "vBg56F4b8DJk"
      }
    },
    {
      "cell_type": "markdown",
      "source": [
        "<hr><hr>"
      ],
      "metadata": {
        "id": "cYP5-M7JR7RZ"
      }
    },
    {
      "cell_type": "markdown",
      "source": [
        "**Enhancement 1 : Mechanism to alert on high levels of certain substance**\n",
        "\n",
        "*Description : This would be a mechanism , where after converting the label of the ingredients to OCR the mechanism/algorithm should be able to detect high levels of fats , concentrated sugar , salt levels etc , what we can do is train the model/feed in a data set of ingredients which are harmful to the human body , so as and when the algorithm detects the high levels of these substances it will immediately warn the user and display a graph or chart showing the overall ingredients but will emphasize on the harmful ingredients (fats, concentrated sugars etc depending on the data set we feed it) and show them with bold indices so that the user is aware of the substances they are consuming.*\n",
        "\n",
        "\n",
        "\n"
      ],
      "metadata": {
        "id": "HBkcj9e1eM_k"
      }
    },
    {
      "cell_type": "markdown",
      "source": [
        "### REVIEW COMPLETED\n",
        "\n",
        "**Details:** Enhancement 1 introduces a pivotal mechanism to amplify consumer awareness and promote healthier dietary choices: a cutting-edge system designed to alert users about elevated levels of specific substances in food products. This revolutionary approach harnesses the power of Optical Character Recognition (OCR) technology to decipher ingredient labels, enabling the algorithm to swiftly identify excessive quantities of substances such as fats and concentrated sugars.\n",
        "\n",
        "The mechanism's foundation lies in an intricately trained model fed with a comprehensive dataset of ingredients recognized as potentially detrimental to human health. As the algorithm detects surges in these substances, it promptly issues alerts to users, effectively serving as a real-time safeguard against potentially harmful consumption. Beyond alerts, the system augments user comprehension by visually representing ingredient proportions through interactive graphs or charts. This visualization focuses attention on the harmful constituents, like fats and sugars, rendering them in bold indices for clear distinction.\n",
        "\n",
        "By seamlessly integrating technology with nutritional awareness, this enhancement empowers consumers to make more informed food choices. The mechanism serves as an educational tool, aligning with modern dietary preferences while addressing health concerns. In essence, it is a stride towards fostering an environment where individuals can proactively curate their diets, ultimately contributing to their overall well-being.\n",
        "\n",
        "**THRESHOLD ALERT :**  Once a particular quantity exceeds a certain level, the user should be intimated."
      ],
      "metadata": {
        "id": "LLVyiYJReSH_"
      }
    },
    {
      "cell_type": "markdown",
      "source": [
        "**POINTS TO BE NOTED :**\n",
        "The alerts needs to be focussing on the Enhancement 1 and not on sections liks Alergies."
      ],
      "metadata": {
        "id": "bbXG2hSy7SWz"
      }
    },
    {
      "cell_type": "markdown",
      "source": [
        "**CODE DESCRIPTION:**"
      ],
      "metadata": {
        "id": "q_mhry3gYKIc"
      }
    },
    {
      "cell_type": "markdown",
      "source": [
        "**ASSUMPTION:**\n",
        "This below code assumes you have extracted the text from an image using an OCR library like Tesseract (PyTesseract). The ***detect_harmful_substances*** function checks if any of the harmful substances are present in the OCR result, and the ***display_ingredient_chart*** function creates a bar chart to visualize ingredient proportions, highlighting harmful ingredients with bold indices."
      ],
      "metadata": {
        "id": "QJUz81JvUdnO"
      }
    },
    {
      "cell_type": "markdown",
      "source": [
        "**NOTE:**\n",
        "Please note that this is a simplified example and doesn't include actual user input or health profile integration. You would need to replace the placeholders with actual implementation details."
      ],
      "metadata": {
        "id": "5Twmp0FNYsMW"
      }
    },
    {
      "cell_type": "code",
      "source": [
        "#import pytesseract\n",
        "from PIL import Image\n",
        "import matplotlib.pyplot as plt\n",
        "%matplotlib inline\n",
        "\n",
        "import warnings\n",
        "warnings.filterwarnings('ignore')\n",
        "warnings.filterwarnings('error', category=DeprecationWarning)\n",
        "\n",
        "\n",
        "\n",
        "# UPDATIONS - Sreesaketh to update this below example for additional 4 other SCENARIOS\n",
        "######################### SCENARIO # 1 ################################\n",
        "# Simulated OCR result -\n",
        "sample_ocr_result = \"Ingredients: Water, Sugar, High Fructose Corn Syrup, Vegetable Oil, Salt\"\n",
        "\n",
        "# List of harmful substances\n",
        "harmful_substances = [\"fats\", \"concentrated sugars\", \"salt\"]\n",
        "#######################################################################\n",
        "\n",
        "\n",
        "# Function 1::\n",
        "def detect_harmful_substances(ocr_text):\n",
        "    detected_harmful = []\n",
        "\n",
        "    for substance in harmful_substances:\n",
        "        if substance in ocr_text:\n",
        "            detected_harmful.append(substance)\n",
        "\n",
        "    return detected_harmful\n",
        "\n",
        "\n",
        "# Function 2::\n",
        "def display_ingredient_chart(ingredients):\n",
        "    # Simulated data for ingredient proportions\n",
        "    ingredient_proportions = {\n",
        "        \"Water\": 50,\n",
        "        \"Sugar\": 30,\n",
        "        \"High Fructose Corn Syrup\": 15,\n",
        "        \"Vegetable Oil\": 3,\n",
        "        \"Salt\": 2\n",
        "    }\n",
        "\n",
        "    harmful_ingredients_indices = [ingredient for ingredient in ingredients if ingredient in ingredient_proportions]\n",
        "\n",
        "    plt.bar(ingredient_proportions.keys(), ingredient_proportions.values())\n",
        "    plt.xlabel(\"Ingredients\")\n",
        "    plt.ylabel(\"Proportions\")\n",
        "    plt.title(\"Ingredient Proportions\")\n",
        "    plt.xticks(rotation=45)\n",
        "\n",
        "    for index, ingredient in enumerate(ingredient_proportions.keys()):\n",
        "        if ingredient in harmful_ingredients_indices:\n",
        "            plt.text(index, ingredient_proportions[ingredient] + 1, ingredient, ha='center', weight='bold')\n",
        "\n",
        "    plt.tight_layout()\n",
        "\n",
        "    # DATA VISUALIZATION CODE\n",
        "\n",
        "    plt.show()\n",
        "\n",
        "\n",
        "# Function 3:: THRESHOLD ALERT\n",
        "\n",
        "\n",
        "\n",
        "\n",
        "# Simulated OCR result after extracting text from an image -- # Radhakrishnan to update this section by reuse of the OCR Tesseract code\n",
        "\n",
        "ocr_text = sample_ocr_result.lower()\n",
        "\n",
        "# Detect harmful substances in OCR text\n",
        "detected_harmful_substances = detect_harmful_substances(ocr_text)\n",
        "\n",
        "if detected_harmful_substances:\n",
        "    print(\"Detected harmful substances:\", \", \".join(detected_harmful_substances))\n",
        "    display_ingredient_chart(detected_harmful_substances)\n",
        "else:\n",
        "    print(\"No harmful substances detected.\")"
      ],
      "metadata": {
        "colab": {
          "base_uri": "https://localhost:8080/",
          "height": 504
        },
        "id": "cVN6z42yUdMi",
        "outputId": "c8d99f24-936e-4474-8d38-25eeb2c192b4"
      },
      "execution_count": null,
      "outputs": [
        {
          "output_type": "stream",
          "name": "stdout",
          "text": [
            "Detected harmful substances: salt\n"
          ]
        },
        {
          "output_type": "display_data",
          "data": {
            "text/plain": [
              "<Figure size 640x480 with 1 Axes>"
            ],
            "image/png": "[encoded data removed]"
          },
          "metadata": {}
        }
      ]
    },
    {
      "cell_type": "markdown",
      "source": [
        "<hr>"
      ],
      "metadata": {
        "id": "sitSkjhyeYG3"
      }
    },
    {
      "cell_type": "markdown",
      "source": [
        "**Enhancement 2 : Customize the alert level based on customers health profile**:\n",
        "\n",
        "*Description : Provide option to input customers health profile like BMS, pre-existing conditions like diabetes, blood pressure, allergies so that out app will tune the alert levels accordingly.*\n",
        "\n"
      ],
      "metadata": {
        "id": "--Th_mpJeZzF"
      }
    },
    {
      "cell_type": "markdown",
      "source": [
        "*italicized text*### REVIEW COMPLETED\n",
        "\n",
        "**Details :** Enhancement 2 seeks to introduce a groundbreaking feature aimed at elevating user experience and health outcomes: the ability to customize alert levels based on individual customer health profiles. This innovation recognizes the diverse health needs of consumers, offering a holistic approach to food consumption safety.\n",
        "The proposed mechanism entails an intuitive interface where users can input their health profiles, encompassing vital indicators such as Body Mass Index (BMI), and pre-existing medical conditions such as diabetes, blood pressure, and allergies. Leveraging this information, the application will dynamically adjust alert thresholds to align with each user's specific health requirements.\n",
        "By tailoring alerts to personal health attributes, the app empowers individuals to make informed dietary choices that align with their unique circumstances. For instance, an individual with diabetes may receive heightened alerts concerning sugar content, while someone with allergies could receive notifications about potential allergens.\n",
        "This innovative feature not only enhances user engagement and awareness but also fosters a proactive approach to health-conscious eating. By merging the power of technology with personalized health data, the system provides an invaluable tool for maintaining well-being. Ultimately, this advancement underscores our commitment to advancing food safety in a manner that is both inclusive and impactful, ushering in a new era of food safety where individual health profiles are at the forefront of decision-making."
      ],
      "metadata": {
        "id": "9MHO_GJpef_G"
      }
    },
    {
      "cell_type": "markdown",
      "source": [
        "**CODE DESCRIPTION:**\n",
        "\n",
        "In this code, the user_health_profile dictionary represents the user's health profile with information like BMI, diabetes status, blood pressure, and allergies. The health_profile_thresholds dictionary holds the threshold values for each health attribute. The customize_alert_levels function creates a custom alert levels dictionary based on the user's health profile, and the detect_harmful_substances function considers these custom alert levels while detecting harmful substances.\n"
      ],
      "metadata": {
        "id": "Cvd72wl3YCm9"
      }
    },
    {
      "cell_type": "markdown",
      "source": [
        "**NOTE:** In a real-world scenario, we would need to integrate the system with an CSV FILE Repository of actual user input or health profile integration and We would need to replace the placeholders with actual implementation details."
      ],
      "metadata": {
        "id": "ER8l4NhDYe2m"
      }
    },
    {
      "cell_type": "code",
      "source": [
        "# import pytesseract\n",
        "from PIL import Image\n",
        "import matplotlib.pyplot as plt\n",
        "%matplotlib inline\n",
        "\n",
        "import warnings\n",
        "warnings.filterwarnings('ignore')\n",
        "warnings.filterwarnings('error', category=DeprecationWarning)\n",
        "\n",
        "\n",
        "\n",
        "\n",
        "# UPDATIONS - Sreesaketh to update this below example for additional 4 other SCENARIOS\n",
        "######################### SCENARIO # 1 ################################\n",
        "\n",
        "# Simulated OCR result\n",
        "sample_ocr_result = \"Ingredients: Water, Sugar, High Fructose Corn Syrup, Vegetable Oil, Salt\"\n",
        "\n",
        "# List of harmful substances\n",
        "harmful_substances = [\"fats\", \"concentrated sugars\", \"salt\"]\n",
        "\n",
        "# Simulated user health profile\n",
        "user_health_profile = {\n",
        "    \"BMI\": 25,\n",
        "    \"diabetes\": True,\n",
        "    \"blood_pressure\": False,\n",
        "    \"allergies\": [\"nuts\", \"dairy\"]\n",
        "}\n",
        "\n",
        "# Define health profile thresholds\n",
        "health_profile_thresholds = {\n",
        "    \"BMI\": 25,\n",
        "    \"diabetes\": True,\n",
        "    \"blood_pressure\": False,\n",
        "    \"allergies\": [\"nuts\", \"dairy\"]\n",
        "}\n",
        "\n",
        "########################################################################\n",
        "\n",
        "\n",
        "# FUNCTION 1\n",
        "def detect_harmful_substances(ocr_text, health_profile):\n",
        "    detected_harmful = []\n",
        "\n",
        "    for substance in harmful_substances:\n",
        "        if substance in ocr_text:\n",
        "            detected_harmful.append(substance)\n",
        "\n",
        "    return detected_harmful\n",
        "\n",
        "def customize_alert_levels(health_profile):\n",
        "    custom_alert_levels = {}\n",
        "\n",
        "    for key, value in health_profile.items():\n",
        "        if key in health_profile_thresholds:\n",
        "            custom_alert_levels[key] = value\n",
        "\n",
        "    return custom_alert_levels\n",
        "\n",
        "# Simulated OCR result after extracting text from an image -- # Radhakrishnan to update this section by reuse of the OCR Tesseract code\n",
        "ocr_text = sample_ocr_result.lower()\n",
        "\n",
        "# Simulate getting user's health profile from input\n",
        "user_health_profile = {\n",
        "    \"BMI\": 27,\n",
        "    \"diabetes\": True,\n",
        "    \"blood_pressure\": False,\n",
        "    \"allergies\": [\"dairy\"]\n",
        "}\n",
        "\n",
        "# Get customized alert levels based on user's health profile\n",
        "custom_alert_levels = customize_alert_levels(user_health_profile)\n",
        "\n",
        "# Detect harmful substances considering customized alert levels\n",
        "detected_harmful_substances = detect_harmful_substances(ocr_text, custom_alert_levels)\n",
        "\n",
        "if detected_harmful_substances:\n",
        "    print(\"Detected harmful substances:\", \", \".join(detected_harmful_substances))\n",
        "    print(\"Customized alert levels:\", custom_alert_levels)\n",
        "else:\n",
        "    print(\"No harmful substances detected.\")\n"
      ],
      "metadata": {
        "colab": {
          "base_uri": "https://localhost:8080/"
        },
        "id": "2AU0Ch4cYapG",
        "outputId": "37f5331c-69a7-4ad4-d146-3aa486f559e0"
      },
      "execution_count": null,
      "outputs": [
        {
          "output_type": "stream",
          "name": "stdout",
          "text": [
            "Detected harmful substances: salt\n",
            "Customized alert levels: {'BMI': 27, 'diabetes': True, 'blood_pressure': False, 'allergies': ['dairy']}\n"
          ]
        }
      ]
    },
    {
      "cell_type": "markdown",
      "source": [
        "<hr>"
      ],
      "metadata": {
        "id": "_d87o2Wceowv"
      }
    },
    {
      "cell_type": "markdown",
      "source": [
        "**Enhancement 3 : Suggest alternate substitutes/products:**\n",
        "\n",
        "*Description : Alternate substitutes/products that are within the safety limits for that customer. This will be based on other people scans.*\n",
        "\n"
      ],
      "metadata": {
        "id": "_EMgNM_efGJ2"
      }
    },
    {
      "cell_type": "markdown",
      "source": [
        "### REVIEW COMPLETED\n",
        "\n",
        "**Details :** Enhancement 3 introduces a dynamic solution aimed at revolutionizing consumer decision-making and product choices: the integration of an ingenious feature that suggests alternate substitutes or products, all within safe limits tailored to each individual customer. This forward-looking approach leverages collective insights from the scans of other users to provide personalized recommendations.\n",
        "\n",
        "This innovative mechanism serves as a guiding compass for customers seeking to replace certain ingredients or products with healthier options. Drawing from a wealth of data, the system analyzes scans performed by a diverse range of users, identifying ingredients or products that fall within established safety parameters. For instance, if a customer seeks to swap a high-sugar item, the system taps into its repository of user scans to propose items that align with their dietary preferences while adhering to safety guidelines.\n",
        "\n",
        "These personalized suggestions not only empower users to make healthier choices but also foster a sense of community among individuals with similar health-conscious goals. By curating a repository of safe alternatives gleaned from collective experiences, the enhancement empowers users to navigate the intricacies of ingredient labels with confidence.\n",
        "\n",
        "In essence, this innovation bridges the gap between information and action, transforming the way people make dietary decisions. By embracing technology as an ally in the pursuit of healthier lifestyles, this enhancement underscores our commitment to enhancing food safety and promoting well-being in a manner that resonates with each unique consumer journey."
      ],
      "metadata": {
        "id": "W7nHWvTQgB1D"
      }
    },
    {
      "cell_type": "markdown",
      "source": [
        "**CODE DESCRIPTION:**\n",
        "\n",
        "In this code,the ***user_scans_repository*** dictionary simulates a repository of user scans and their recommended alternate products. The ***suggest_alternate_products*** function matches the user's scan with scans from other users and extracts alternate product suggestions based on the repository."
      ],
      "metadata": {
        "id": "EYLUMfzPc8xk"
      }
    },
    {
      "cell_type": "markdown",
      "source": [
        "**NOTE:** In a real-world scenario, we would need to integrate the system with an CSV FILE Repository of user scans, and the logic for recommending alternate products would need to be more sophisticated, taking into account user health profiles and safety limits."
      ],
      "metadata": {
        "id": "NRnu0whrdJJQ"
      }
    },
    {
      "cell_type": "code",
      "source": [
        "# import pytesseract\n",
        "from PIL import Image\n",
        "import matplotlib.pyplot as plt\n",
        "%matplotlib inline\n",
        "\n",
        "import warnings\n",
        "warnings.filterwarnings('ignore')\n",
        "warnings.filterwarnings('error', category=DeprecationWarning)\n",
        "\n",
        "\n",
        "\n",
        "\n",
        "# UPDATIONS - Sreesaketh to update this below example for additional 4 other SCENARIOS\n",
        "######################### SCENARIO # 1 ################################\n",
        "\n",
        "# Simulated OCR result\n",
        "sample_ocr_result = \"Ingredients: Water, Sugar, High Fructose Corn Syrup, Vegetable Oil, Salt\"\n",
        "\n",
        "# Simulated user health profile\n",
        "user_health_profile = {\n",
        "    \"BMI\": 25,\n",
        "    \"diabetes\": True,\n",
        "    \"blood_pressure\": False,\n",
        "    \"allergies\": [\"nuts\", \"dairy\"]\n",
        "}\n",
        "\n",
        "# Simulated repository of user scans and recommendations\n",
        "user_scans_repository = {\n",
        "    \"User1\": [\"Water, Sugar, Vegetable Oil, Salt\", \"Healthy Product A\", \"Healthy Product B\"],\n",
        "    \"User2\": [\"Water, Sugar, Salt\", \"Healthy Product C\", \"Healthy Product D\"],\n",
        "    # ... Other users and their scans\n",
        "}\n",
        "\n",
        "#################################################################\n",
        "\n",
        "\n",
        "#FUNCTION # 1\n",
        "def suggest_alternate_products(ocr_text, user_profile, scans_repository):\n",
        "    suggested_products = []\n",
        "\n",
        "    for user, scans in scans_repository.items():\n",
        "        for scan in scans:\n",
        "            if all(ingredient in scan for ingredient in ocr_text.split(', ')):\n",
        "                suggested_products.extend(scan.split(', ')[1:])\n",
        "\n",
        "    return suggested_products\n",
        "\n",
        "# Simulated OCR result after extracting text from an image -- # Radhakrishnan to update this section by reuse of the OCR Tesseract code\n",
        "ocr_text = sample_ocr_result.lower()\n",
        "\n",
        "# Simulated user's scan and health profile\n",
        "user_scan = \"Water, Sugar, High Fructose Corn Syrup\"\n",
        "user_health_profile = {\n",
        "    \"BMI\": 27,\n",
        "    \"diabetes\": True,\n",
        "    \"blood_pressure\": False,\n",
        "    \"allergies\": []\n",
        "}\n",
        "\n",
        "# Get suggested alternate products based on user's scan and health profile\n",
        "suggested_alternate_products = suggest_alternate_products(user_scan, user_health_profile, user_scans_repository)\n",
        "\n",
        "if suggested_alternate_products:\n",
        "    print(\"Suggested alternate products:\", \", \".join(suggested_alternate_products))\n",
        "else:\n",
        "    print(\"No suggested alternate products found.\")\n"
      ],
      "metadata": {
        "colab": {
          "base_uri": "https://localhost:8080/"
        },
        "id": "_ng_y27_deBQ",
        "outputId": "55d5d050-d07f-48b9-e90f-55ec4d10f2c4"
      },
      "execution_count": null,
      "outputs": [
        {
          "output_type": "stream",
          "name": "stdout",
          "text": [
            "No suggested alternate products found.\n"
          ]
        }
      ]
    },
    {
      "cell_type": "markdown",
      "source": [
        "<hr>"
      ],
      "metadata": {
        "id": "HE9WzjOggGkH"
      }
    },
    {
      "cell_type": "markdown",
      "source": [
        "**Enhancement 4 : Read expiry date and give proper suggestion:**"
      ],
      "metadata": {
        "id": "l9EUnkEPgIad"
      }
    },
    {
      "cell_type": "markdown",
      "source": [
        "### REVIEW COMPLETED\n",
        "**Details:** Enhancement 4 introduces a pivotal advancement that redefines consumer safety and confidence: a sophisticated feature designed to read and interpret expiry dates, offering users informed suggestions for appropriate actions. This cutting-edge mechanism harnesses technological innovation to empower users in making more informed consumption decisions.\n",
        "\n",
        "At its core, this enhancement employs advanced image recognition and machine learning algorithms to accurately read and decipher expiry dates on food products. Once the date is processed, the system provides tailored recommendations based on the proximity to the stated expiration date. For instance, if a product is nearing its expiry, the system could suggest immediate consumption or proper disposal.\n",
        "\n",
        "This proactive approach not only mitigates the risk of ingesting expired products but also minimizes food wastage, contributing to both consumer well-being and sustainability efforts. The technology extends beyond mere detection, as it educates users about the significance of expiry dates and the implications of consuming expired goods.\n",
        "\n",
        "By intertwining technology with practical application, this enhancement underscores our commitment to revolutionizing food safety. It places information and empowerment directly in the hands of consumers, ensuring they make choices that align with their health and ethical values. Ultimately, this feature exemplifies the potential of innovation in fostering a safer and more conscientious food consumption culture."
      ],
      "metadata": {
        "id": "XvcCnxDGgOiC"
      }
    },
    {
      "cell_type": "markdown",
      "source": [
        "**CODE DESCRIPTION:**\n",
        "\n",
        "In this code, the ***read_expiry_date*** function extracts the expiry date from the OCR result, and the suggest_expiry_action function calculates the difference in days between the expiry date and the current date to provide appropriate suggestions for action based on the proximity to the expiration date."
      ],
      "metadata": {
        "id": "9X1jvdAbgGrd"
      }
    },
    {
      "cell_type": "markdown",
      "source": [
        "**NOTE:**\n",
        "Please note that this code comes after we have extracted the expiry date from an image using an OCR library or method. So Ideal scenario, we would need to implement the image recognition and machine learning components to accurately read expiry dates from images."
      ],
      "metadata": {
        "id": "ulpg0bqLgQ-P"
      }
    },
    {
      "cell_type": "code",
      "source": [
        "from datetime import datetime\n",
        "\n",
        "# Simulated OCR result  -- # Radhakrishnan to update this section by reuse of the OCR Tesseract code\n",
        "sample_expiry_date_ocr = \"Expiry Date: 2023-09-30\"\n",
        "\n",
        "# Simulated current date\n",
        "current_date = datetime.now()\n",
        "\n",
        "def read_expiry_date(ocr_text):\n",
        "    expiry_date_str = ocr_text.split(\":\")[1].strip()\n",
        "    expiry_date = datetime.strptime(expiry_date_str, \"%Y-%m-%d\")\n",
        "    return expiry_date\n",
        "\n",
        "\n",
        "\n",
        "# FUNCTION 1\n",
        "def suggest_expiry_action(expiry_date, current_date):\n",
        "    days_to_expiry = (expiry_date - current_date).days\n",
        "\n",
        "    if days_to_expiry < 0:\n",
        "        return \"Product has already expired. Dispose of it.\"\n",
        "    elif days_to_expiry == 0:\n",
        "        return \"Product expires today. Consume it.\"\n",
        "    elif days_to_expiry <= 3:\n",
        "        return f\"Product is expiring in {days_to_expiry} days. Consume it soon.\"\n",
        "    else:\n",
        "        return \"Product is safe to consume.\"\n",
        "\n",
        "\n",
        "\n",
        "\n",
        "\n",
        "# Simulated OCR result after extracting text from an image\n",
        "expiry_date_ocr = sample_expiry_date_ocr\n",
        "\n",
        "# Read expiry date from OCR result\n",
        "expiry_date = read_expiry_date(expiry_date_ocr)\n",
        "\n",
        "# Get suggestion for expiry action based on expiry date and current date\n",
        "expiry_suggestion = suggest_expiry_action(expiry_date, current_date)\n",
        "\n",
        "print(\"Expiry date:\", expiry_date.strftime(\"%Y-%m-%d\"))\n",
        "print(\"Suggested action:\", expiry_suggestion)\n"
      ],
      "metadata": {
        "colab": {
          "base_uri": "https://localhost:8080/"
        },
        "id": "nCSTRns6ghYv",
        "outputId": "c02e7241-96ae-49f0-faba-5e50d111663e"
      },
      "execution_count": null,
      "outputs": [
        {
          "output_type": "stream",
          "name": "stdout",
          "text": [
            "Expiry date: 2023-09-30\n",
            "Suggested action: Product is safe to consume.\n"
          ]
        }
      ]
    },
    {
      "cell_type": "markdown",
      "source": [
        "<hr>"
      ],
      "metadata": {
        "id": "jgtxQ5fJgSM1"
      }
    },
    {
      "cell_type": "markdown",
      "source": [
        "**Enhancement 5 : Food Safety Resources:**\n",
        "\n",
        "*Description : Compile and provide a comprehensive collection of resources, including guidelines, research papers, reports, and best practice documents related to food safety. Users can access these resources for reference and further study.*\n",
        "\n"
      ],
      "metadata": {
        "id": "a1YJYe7IgTsN"
      }
    },
    {
      "cell_type": "markdown",
      "source": [
        "### REVIEW COMPLETED\n",
        "**Details:** Enhancement 5 introduces an invaluable resource that empowers users with knowledge and insights crucial to their well-being: a meticulously curated compilation of Food Safety Resources. This innovative feature serves as a repository of guidelines, research papers, reports, and best practice documents meticulously selected to foster informed decision-making and heightened awareness.\n",
        "\n",
        "Designed to be user-centric, this enhancement grants users unrestricted access to a wealth of information directly relevant to food safety. By offering a centralized hub of diverse resources, ranging from authoritative guidelines to pioneering research, individuals are empowered to delve deeper into the intricacies of safe food consumption.\n",
        "\n",
        "The interface seamlessly connects users with a treasure trove of educational materials, each meticulously chosen to cater to different levels of comprehension and interest. From those seeking fundamental guidelines to experts pursuing advanced studies, the collection covers the spectrum of food safety insights.\n",
        "\n",
        "This comprehensive resource not only bolsters user knowledge but also cultivates a culture of informed consumption and safety consciousness. By placing a vast array of resources at users' fingertips, this enhancement elevates their understanding and appreciation of the nuances of food safety, ultimately contributing to their overall well-being. As a testament to our commitment to user-centric innovation, this feature is poised to become an indispensable tool in fostering a safer and more educated approach to food choices."
      ],
      "metadata": {
        "id": "QFtnqpf7gZ7m"
      }
    },
    {
      "cell_type": "markdown",
      "source": [
        "**CODE DESCRIPTION:**\n",
        "\n",
        "In this code, the ***FoodSafetyResources*** class holds a dictionary of resource categories, where each category contains a list of resources along with their URLs. The Functions ***display_resource_categories*** and ***display_resources_in_category*** allow users to explore available categories and resources within a selected category."
      ],
      "metadata": {
        "id": "WYKNIuigjNBI"
      }
    },
    {
      "cell_type": "markdown",
      "source": [
        "**NOTE:** In our implementation, you would replace the placeholder URLs with actual links to the respective resources using external APIs to manage and retrieve actual resources dynamically."
      ],
      "metadata": {
        "id": "fVlHuk2Bjbc6"
      }
    },
    {
      "cell_type": "code",
      "source": [
        "class FoodSafetyResources:\n",
        "    def __init__(self):\n",
        "        self.resources = {\n",
        "            \"Guidelines\": {\n",
        "                \"Basic Food Safety Guidelines\": \"URL to basic food safety guidelines\",\n",
        "                \"Advanced Food Safety Practices\": \"URL to advanced food safety practices\"\n",
        "            },\n",
        "            \"Research Papers\": {\n",
        "                \"Impact of Food Safety on Public Health\": \"URL to research paper\",\n",
        "                \"Emerging Trends in Food Safety\": \"URL to research paper\"\n",
        "            },\n",
        "            \"Reports\": {\n",
        "                \"Annual Food Safety Report\": \"URL to annual food safety report\",\n",
        "                \"Global Foodborne Illness Statistics\": \"URL to statistics report\"\n",
        "            }\n",
        "            # Add more categories and resources as needed\n",
        "        }\n",
        "\n",
        "\n",
        "    # Function # 1\n",
        "    def display_resource_categories(self):\n",
        "        print(\"Available resource categories:\")\n",
        "        for category in self.resources.keys():\n",
        "            print(\"- \" + category)\n",
        "\n",
        "\n",
        "    # Function # 2\n",
        "    def display_resources_in_category(self, category):\n",
        "        if category in self.resources:\n",
        "            print(f\"Resources in '{category}':\")\n",
        "            for resource, url in self.resources[category].items():\n",
        "                print(f\"- {resource}: {url}\")\n",
        "        else:\n",
        "            print(f\"'{category}' category not found.\")\n",
        "\n",
        "\n",
        "\n",
        "\n",
        "\n",
        "# Create an instance of FoodSafetyResources\n",
        "food_safety_resources = FoodSafetyResources()\n",
        "\n",
        "# Display available resource categories\n",
        "food_safety_resources.display_resource_categories()\n",
        "\n",
        "# Display resources in a specific category\n",
        "selected_category = \"Research Papers\"\n",
        "food_safety_resources.display_resources_in_category(selected_category)\n"
      ],
      "metadata": {
        "colab": {
          "base_uri": "https://localhost:8080/"
        },
        "id": "BCy2zReIj0FV",
        "outputId": "779bdefd-b139-438b-d1ab-8be7fc19842a"
      },
      "execution_count": null,
      "outputs": [
        {
          "output_type": "stream",
          "name": "stdout",
          "text": [
            "Available resource categories:\n",
            "- Guidelines\n",
            "- Research Papers\n",
            "- Reports\n",
            "Resources in 'Research Papers':\n",
            "- Impact of Food Safety on Public Health: URL to research paper\n",
            "- Emerging Trends in Food Safety: URL to research paper\n"
          ]
        }
      ]
    },
    {
      "cell_type": "markdown",
      "source": [
        "<hr>"
      ],
      "metadata": {
        "id": "fMpWFf-EgdKQ"
      }
    }
  ]
}