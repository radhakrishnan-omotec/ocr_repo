{
  "nbformat": 4,
  "nbformat_minor": 0,
  "metadata": {
    "colab": {
      "provenance": [],
      "include_colab_link": true
    },
    "kernelspec": {
      "name": "python3",
      "display_name": "Python 3"
    },
    "language_info": {
      "name": "python"
    }
  },
  "cells": [
    {
      "cell_type": "markdown",
      "metadata": {
        "id": "view-in-github",
        "colab_type": "text"
      },
      "source": [
        "<a href=\"https://colab.research.google.com/github/radhakrishnan-omotec/ocr_repo/blob/main/Week9_OCR_Input_Testing.ipynb\" target=\"_parent\"><img src=\"https://colab.research.google.com/assets/colab-badge.svg\" alt=\"Open In Colab\"/></a>"
      ]
    },
    {
      "cell_type": "code",
      "execution_count": null,
      "metadata": {
        "colab": {
          "base_uri": "https://localhost:8080/"
        },
        "id": "8zeQ6mwRZxwN",
        "outputId": "17590956-b5c1-45ab-e591-7fed6c12ada5"
      },
      "outputs": [
        {
          "output_type": "stream",
          "name": "stderr",
          "text": [
            "[nltk_data] Downloading package words to /root/nltk_data...\n",
            "[nltk_data]   Package words is already up-to-date!\n"
          ]
        },
        {
          "output_type": "stream",
          "name": "stdout",
          "text": [
            "Serving size 1 can\n",
            "Amount per serving\n",
            "Not a significant source of saturated fat,\n",
            "trans fat, cholesterol, dietary fiber, vitamin D,\n",
            "calcium, iron and potassium.\n",
            "*The % Daily Value (DV) tells you how much\n",
            "a nutrient in a serving of food contributes\n",
            "to a daily diet. 2,000 calories a day is used\n",
            "for general nutrition advice.\n"
          ]
        }
      ],
      "source": [
        "import nltk\n",
        "\n",
        "# Download NLTK's language detection data (only need to do this once)\n",
        "nltk.download('words')\n",
        "\n",
        "# Sample multiline string\n",
        "multiline_string = \"\"\"\n",
        "ULTRA BLUE 16 FL. 02.\n",
        "Serving size 1 can\n",
        "\n",
        "ee\n",
        "\n",
        "ee\n",
        "\n",
        "Amount per serving\n",
        "\n",
        "Calories 10\n",
        "\n",
        "SL\n",
        "\n",
        "Daily Valu*\n",
        "\n",
        "Total Fat 0g 0%\n",
        "\n",
        "Sodium 370mg 16%\n",
        "\n",
        "Total Carbohydrate 6g 2%\n",
        "\n",
        "Total Sugars 0g\n",
        "Includes 0g Added Sugars 0%\n",
        "Erythritol 2g\n",
        "\n",
        "Protein 0g\n",
        "\n",
        "ee\n",
        "\n",
        "Niacin (Vit. B3) 250%\n",
        "\n",
        "Vitamin B6 240%\n",
        "\n",
        "Vitamin B12 490%\n",
        "\n",
        "Pantothenic Acid (Vit. B5) 400%\n",
        "\n",
        "——————\n",
        "\n",
        "Not a significant source of saturated fat,\n",
        "\n",
        "trans fat, cholesterol, dietary fiber, vitamin D,\n",
        "\n",
        "calcium, iron and potassium.\n",
        "\n",
        "*The % Daily Value (DV) tells you how much\n",
        "a nutrient in a serving of food contributes\n",
        "to a daily diet. 2,000 calories a day is used\n",
        "for general nutrition advice.\n",
        "\n",
        "ee\n",
        "\"\"\"\n",
        "\n",
        "# Split the multiline string into lines\n",
        "lines = multiline_string.splitlines()\n",
        "\n",
        "# Initialize an empty list to store lines with any English word\n",
        "output_list = []\n",
        "\n",
        "# Check if any word in each line is an English word\n",
        "for line in lines:\n",
        "    words = line.split()\n",
        "    if words and any(word in nltk.corpus.words.words() for word in words):\n",
        "        output_list.append(line)\n",
        "\n",
        "# Print the output list\n",
        "for line in output_list:\n",
        "    print(line)\n"
      ]
    },
    {
      "cell_type": "markdown",
      "source": [
        "# PYTHON CODE 3 :"
      ],
      "metadata": {
        "id": "qmPC31urcYKY"
      }
    },
    {
      "cell_type": "code",
      "source": [
        "import nltk\n",
        "\n",
        "# Download NLTK's language detection data (only need to do this once)\n",
        "nltk.download('words')\n",
        "\n",
        "# Sample multiline string\n",
        "multiline_string = \"\"\"\n",
        "ULTRA BLUE 16 FL. 02.\n",
        "Serving size 1 can\n",
        "\n",
        "ee\n",
        "\n",
        "ee\n",
        "\n",
        "Amount per serving\n",
        "\n",
        "Calories 10\n",
        "\n",
        "SL\n",
        "\n",
        "Daily Valu*\n",
        "\n",
        "Total Fat 0g 0%\n",
        "\n",
        "Sodium 370mg 16%\n",
        "\n",
        "Total Carbohydrate 6g 2%\n",
        "\n",
        "Total Sugars 0g\n",
        "Includes 0g Added Sugars 0%\n",
        "Erythritol 2g\n",
        "\n",
        "Protein 0g\n",
        "\n",
        "ee\n",
        "\n",
        "Niacin (Vit. B3) 250%\n",
        "\n",
        "Vitamin B6 240%\n",
        "\n",
        "Vitamin B12 490%\n",
        "\n",
        "Pantothenic Acid (Vit. B5) 400%\n",
        "\n",
        "——————\n",
        "\n",
        "Not a significant source of saturated fat,\n",
        "\n",
        "trans fat, cholesterol, dietary fiber, vitamin D,\n",
        "\n",
        "calcium, iron and potassium.\n",
        "\n",
        "*The % Daily Value (DV) tells you how much\n",
        "a nutrient in a serving of food contributes\n",
        "to a daily diet. 2,000 calories a day is used\n",
        "for general nutrition advice.\n",
        "\n",
        "ee\n",
        "\"\"\"\n",
        "\n",
        "# Split the multiline string into lines\n",
        "lines = multiline_string.splitlines()\n",
        "\n",
        "# Initialize an empty list to store lines with any English word\n",
        "output_list = []\n",
        "\n",
        "# Check if any word in each line is an English word and if it contains \"fat\"\n",
        "for line in lines:\n",
        "    words = line.split()\n",
        "    if words and (any(word in nltk.corpus.words.words() for word in words) or \"Vitamin B6\" in line.lower()):\n",
        "        output_list.append(line)\n",
        "\n",
        "# Convert the output_list to a single string\n",
        "output_string = ' '.join(output_list)\n",
        "\n",
        "# Store the output in a dictionary with the key \"Ingredient\"\n",
        "energy_drink_data = {\"Ingredients List\": output_string}\n",
        "\n",
        "# Print the energy_drink_data dictionary\n",
        "print(\"========================\")\n",
        "print(energy_drink_data)\n",
        "print(\"========================\")"
      ],
      "metadata": {
        "colab": {
          "base_uri": "https://localhost:8080/"
        },
        "id": "4aBbkmp6cXys",
        "outputId": "403a926f-beec-481a-a53b-7c98b9cd11da"
      },
      "execution_count": null,
      "outputs": [
        {
          "output_type": "stream",
          "name": "stderr",
          "text": [
            "[nltk_data] Downloading package words to /root/nltk_data...\n",
            "[nltk_data]   Package words is already up-to-date!\n"
          ]
        },
        {
          "output_type": "stream",
          "name": "stdout",
          "text": [
            "========================\n",
            "{'Ingredients List': 'Serving size 1 can Amount per serving Not a significant source of saturated fat, trans fat, cholesterol, dietary fiber, vitamin D, calcium, iron and potassium. *The % Daily Value (DV) tells you how much a nutrient in a serving of food contributes to a daily diet. 2,000 calories a day is used for general nutrition advice.'}\n",
            "========================\n"
          ]
        }
      ]
    }
  ]
}