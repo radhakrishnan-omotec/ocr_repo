{
  "nbformat": 4,
  "nbformat_minor": 0,
  "metadata": {
    "colab": {
      "provenance": [],
      "authorship_tag": "ABX9TyO5z8tR5tOq8yB2XtwygcoU",
      "include_colab_link": true
    },
    "kernelspec": {
      "name": "python3",
      "display_name": "Python 3"
    },
    "language_info": {
      "name": "python"
    }
  },
  "cells": [
    {
      "cell_type": "markdown",
      "metadata": {
        "id": "view-in-github",
        "colab_type": "text"
      },
      "source": [
        "<a href=\"https://colab.research.google.com/github/radhakrishnan-omotec/ocr_repo/blob/main/10_Final_Enhancements_Project_Tesseract_OCR.ipynb\" target=\"_parent\"><img src=\"https://colab.research.google.com/assets/colab-badge.svg\" alt=\"Open In Colab\"/></a>"
      ]
    },
    {
      "cell_type": "markdown",
      "source": [
        "# IRIS Project - Final Enhancements -  OCR based Project :"
      ],
      "metadata": {
        "id": "_hrchQppEca9"
      }
    },
    {
      "cell_type": "markdown",
      "source": [
        "**These below features can enhance the existing Eatsafe Project :**\n",
        "\n",
        "(http://www.eatsafes.ca/)\n"
      ],
      "metadata": {
        "id": "P8rYro7HEwSU"
      }
    },
    {
      "cell_type": "markdown",
      "source": [
        "**Enhancement 1 : Mechanism to alert on high levels of certain substance**<br>\n",
        "**Enhancement 2 : Customize the alert level based on customers health profile**<br>\n",
        "**Enhancement 3 : Suggest alternate substitutes/products:**<br>\n",
        "**Enhancement 4 : Read expiry date and give proper suggestion:**<br>\n",
        "**Enhancement 5 : Food Safety Resources:**<br>"
      ],
      "metadata": {
        "id": "G6sKpar8R-Ol"
      }
    },
    {
      "cell_type": "markdown",
      "source": [
        "DATA VISUALIZATION:\n",
        "\n",
        "Based on requirements , 5 types of Plots be added, we need to identify the appropriate X and Y co-ordinates."
      ],
      "metadata": {
        "id": "vBg56F4b8DJk"
      }
    },
    {
      "cell_type": "markdown",
      "source": [
        "<hr>"
      ],
      "metadata": {
        "id": "cYP5-M7JR7RZ"
      }
    },
    {
      "cell_type": "markdown",
      "source": [
        "**Enhancement 1 : Mechanism to alert on high levels of certain substance**\n",
        "\n",
        "*Description : This would be a mechanism , where after converting the label of the ingredients to OCR the mechanism/algorithm should be able to detect high levels of fats , concentrated sugar , salt levels etc , what we can do is train the model/feed in a data set of ingredients which are harmful to the human body , so as and when the algorithm detects the high levels of these substances it will immediately warn the user and display a graph or chart showing the overall ingredients but will emphasize on the harmful ingredients (fats, concentrated sugars etc depending on the data set we feed it) and show them with bold indices so that the user is aware of the substances they are consuming.*\n",
        "\n",
        "\n",
        "\n"
      ],
      "metadata": {
        "id": "HBkcj9e1eM_k"
      }
    },
    {
      "cell_type": "markdown",
      "source": [
        "\n",
        "**Details:** Enhancement 1 introduces a pivotal mechanism to amplify consumer awareness and promote healthier dietary choices: a cutting-edge system designed to alert users about elevated levels of specific substances in food products. This revolutionary approach harnesses the power of Optical Character Recognition (OCR) technology to decipher ingredient labels, enabling the algorithm to swiftly identify excessive quantities of substances such as fats and concentrated sugars.\n",
        "\n",
        "The mechanism's foundation lies in an intricately trained model fed with a comprehensive dataset of ingredients recognized as potentially detrimental to human health. As the algorithm detects surges in these substances, it promptly issues alerts to users, effectively serving as a real-time safeguard against potentially harmful consumption. Beyond alerts, the system augments user comprehension by visually representing ingredient proportions through interactive graphs or charts. This visualization focuses attention on the harmful constituents, like fats and sugars, rendering them in bold indices for clear distinction.\n",
        "\n",
        "By seamlessly integrating technology with nutritional awareness, this enhancement empowers consumers to make more informed food choices. The mechanism serves as an educational tool, aligning with modern dietary preferences while addressing health concerns. In essence, it is a stride towards fostering an environment where individuals can proactively curate their diets, ultimately contributing to their overall well-being.\n",
        "\n",
        "**THRESHOLD ALERT :**  Once a particular quantity exceeds a certain level, the user should be intimated.\n",
        "\n",
        "The Threshold Limit for ENERGY DRINKS & PROTEIN SUPPLEMENTS is categorized in tbe below Excel Sheet:\n",
        "LINK: https://docs.google.com/spreadsheets/d/1ePaJ1AVIf7uSH5CmVbcKR7gT4venxIwPyTecFLHVu_k/edit#gid=0"
      ],
      "metadata": {
        "id": "LLVyiYJReSH_"
      }
    },
    {
      "cell_type": "markdown",
      "source": [
        "**CODE DESCRIPTION:**"
      ],
      "metadata": {
        "id": "q_mhry3gYKIc"
      }
    },
    {
      "cell_type": "markdown",
      "source": [
        "**ASSUMPTION:**\n",
        "This below code assumes you have extracted the text from an image using an OCR library like Tesseract (PyTesseract). The ***detect_harmful_substances*** function checks if any of the harmful substances are present in the OCR result, and the ***display_ingredient_chart*** function creates a bar chart to visualize ingredient proportions, highlighting harmful ingredients with bold indices."
      ],
      "metadata": {
        "id": "QJUz81JvUdnO"
      }
    },
    {
      "cell_type": "code",
      "source": [
        "import csv\n",
        "\n",
        "# Load dataset for ingredients and limits\n",
        "dataset_path = \"Energy Drinks.csv\"\n",
        "ingredient_list_diabetic = []\n",
        "harmful_substances_limits_diabetic = {}\n",
        "\n",
        "with open(dataset_path, newline='') as csvfile:\n",
        "    reader = csv.DictReader(csvfile)\n",
        "    for row in reader:\n",
        "        ingredient = {\n",
        "            \"name\": row[\"Ingredients List\"],\n",
        "            \"quantity\": float(row[\"Levels of Each Ingredient\"]),\n",
        "            \"unit\": \"g\" if row[\"Levels of Each Ingredient\"].isdigit() else row[\"Levels of Each Ingredient\"].split()[1],\n",
        "        }\n",
        "        ingredient_list_diabetic.append(ingredient)\n",
        "\n",
        "        limit = float(row[\"Thresholds for Diabetes Mellitus (per serving)\"])\n",
        "        harmful_substances_limits_diabetic[row[\"Ingredients List\"]] = limit\n",
        "\n",
        "# Initialize an alert flag\n",
        "trigger_alert_diabetic = False\n",
        "\n",
        "# Compare ingredients with safe limits for diabetics\n",
        "for ingredient in ingredient_list_diabetic:\n",
        "    if ingredient[\"name\"] in harmful_substances_limits_diabetic:\n",
        "        if ingredient[\"quantity\"] > harmful_substances_limits_diabetic[ingredient[\"name\"]]:\n",
        "            print(f\"Alert: {ingredient['name']} exceeds safe limit for diabetics! Quantity: {ingredient['quantity']}{ingredient['unit']}\")\n",
        "            trigger_alert_diabetic = True\n",
        "\n",
        "# If any substance exceeded its safe limit, trigger an alert\n",
        "if trigger_alert_diabetic:\n",
        "    print(\"Triggering an alert for Diabetic Mellitus concerns!\")\n",
        "else:\n",
        "    print(\"No harmful substances exceeded safe limits for Diabetics Mellitus.\")\n"
      ],
      "metadata": {
        "id": "iaVyZLmaE4gX"
      },
      "execution_count": null,
      "outputs": []
    },
    {
      "cell_type": "markdown",
      "source": [
        "<hr>"
      ],
      "metadata": {
        "id": "sitSkjhyeYG3"
      }
    },
    {
      "cell_type": "markdown",
      "source": [
        "**Enhancement 2 : Customize the alert level based on customers health profile**:\n",
        "\n",
        "*Description : Provide option to input customers health profile like BMS, pre-existing conditions like diabetes, blood pressure, allergies so that out app will tune the alert levels accordingly.*\n",
        "\n"
      ],
      "metadata": {
        "id": "--Th_mpJeZzF"
      }
    },
    {
      "cell_type": "markdown",
      "source": [
        "**Details :** Enhancement 2 seeks to introduce a groundbreaking feature aimed at elevating user experience and health outcomes: the ability to customize alert levels based on individual customer health profiles. This innovation recognizes the diverse health needs of consumers, offering a holistic approach to food consumption safety.\n",
        "The proposed mechanism entails an intuitive interface where users can input their health profiles, encompassing vital indicators such as Body Mass Index (BMI), and pre-existing medical conditions such as diabetes, blood pressure, and allergies. Leveraging this information, the application will dynamically adjust alert thresholds to align with each user's specific health requirements.\n",
        "By tailoring alerts to personal health attributes, the app empowers individuals to make informed dietary choices that align with their unique circumstances. For instance, an individual with diabetes may receive heightened alerts concerning sugar content, while someone with allergies could receive notifications about potential allergens.\n",
        "This innovative feature not only enhances user engagement and awareness but also fosters a proactive approach to health-conscious eating. By merging the power of technology with personalized health data, the system provides an invaluable tool for maintaining well-being. Ultimately, this advancement underscores our commitment to advancing food safety in a manner that is both inclusive and impactful, ushering in a new era of food safety where individual health profiles are at the forefront of decision-making."
      ],
      "metadata": {
        "id": "9MHO_GJpef_G"
      }
    },
    {
      "cell_type": "code",
      "source": [
        "import csv\n",
        "\n",
        "# Load dataset for user profile and ingredients\n",
        "dataset_path = \"Energy Drinks.csv\"\n",
        "user_profile = {}\n",
        "ingredient_list = []\n",
        "\n",
        "with open(dataset_path, newline='') as csvfile:\n",
        "    reader = csv.DictReader(csvfile)\n",
        "    for row in reader:\n",
        "        if row[\"S.No\"] == \"User Profile\":\n",
        "            user_profile[\"name\"] = row[\"Energy Drink\"]\n",
        "            user_profile[\"diabetic\"] = True if row[\"Diabetic Threshold (per serving)\"] == \"Yes\" else False\n",
        "            user_profile[\"safe_limits\"] = {\n",
        "                \"Sugar\": float(row[\"Thresholds for Diabetes Mellitus (per serving)\"]),\n",
        "                \"Salt\": float(row[\"Thresholds for Cardiovascular Diseases\"]),\n",
        "                \"Trans Fat\": float(row[\"Thresholds for Diabetes Mellitus (per serving)\"]),\n",
        "                \"Sodium\": float(row[\"Thresholds for Cardiovascular Diseases\"]),\n",
        "                # Add more substances and their limits based on the user's requirements\n",
        "            }\n",
        "        else:\n",
        "            ingredient = {\n",
        "                \"name\": row[\"Ingredients List\"],\n",
        "                \"quantity\": float(row[\"Levels of Each Ingredient\"]),\n",
        "                \"unit\": \"g\" if row[\"Levels of Each Ingredient\"].isdigit() else row[\"Levels of Each Ingredient\"].split()[1],\n",
        "            }\n",
        "            ingredient_list.append(ingredient)\n",
        "\n",
        "# Initialize an alert flag\n",
        "trigger_alert = False\n",
        "\n",
        "# Compare ingredients with user's safe limits\n",
        "for ingredient in ingredient_list:\n",
        "    if ingredient[\"name\"] in user_profile[\"safe_limits\"]:\n",
        "        if ingredient[\"quantity\"] > user_profile[\"safe_limits\"][ingredient[\"name\"]]:\n",
        "            print(f\"Alert: {ingredient['name']} exceeds safe limit for {user_profile['name']}! Quantity: {ingredient['quantity']}{ingredient['unit']}\")\n",
        "            trigger_alert = True\n",
        "\n",
        "# If any substance exceeded the user's safe limit, trigger an alert\n",
        "if trigger_alert:\n",
        "    print(f\"Triggering an alert for {user_profile['name']}'s health profile!\")\n",
        "else:\n",
        "    print(f\"No harmful substances exceeded safe limits for {user_profile['name']}'s health profile.\")\n"
      ],
      "metadata": {
        "id": "UxWDZr_qGCG5"
      },
      "execution_count": null,
      "outputs": []
    },
    {
      "cell_type": "markdown",
      "source": [
        "<hr>"
      ],
      "metadata": {
        "id": "_d87o2Wceowv"
      }
    },
    {
      "cell_type": "markdown",
      "source": [
        "**Enhancement 3 : Suggest alternate substitutes/products:**\n",
        "\n",
        "*Description : Alternate substitutes/products that are within the safety limits for that customer. This will be based on other people scans.*\n",
        "\n"
      ],
      "metadata": {
        "id": "_EMgNM_efGJ2"
      }
    },
    {
      "cell_type": "markdown",
      "source": [
        "**Details :** Enhancement 3 introduces a dynamic solution aimed at revolutionizing consumer decision-making and product choices: the integration of an ingenious feature that suggests alternate substitutes or products, all within safe limits tailored to each individual customer. This forward-looking approach leverages collective insights from the scans of other users to provide personalized recommendations.\n",
        "\n",
        "This innovative mechanism serves as a guiding compass for customers seeking to replace certain ingredients or products with healthier options. Drawing from a wealth of data, the system analyzes scans performed by a diverse range of users, identifying ingredients or products that fall within established safety parameters. For instance, if a customer seeks to swap a high-sugar item, the system taps into its repository of user scans to propose items that align with their dietary preferences while adhering to safety guidelines.\n",
        "\n",
        "These personalized suggestions not only empower users to make healthier choices but also foster a sense of community among individuals with similar health-conscious goals. By curating a repository of safe alternatives gleaned from collective experiences, the enhancement empowers users to navigate the intricacies of ingredient labels with confidence.\n",
        "\n",
        "In essence, this innovation bridges the gap between information and action, transforming the way people make dietary decisions. By embracing technology as an ally in the pursuit of healthier lifestyles, this enhancement underscores our commitment to enhancing food safety and promoting well-being in a manner that resonates with each unique consumer journey."
      ],
      "metadata": {
        "id": "W7nHWvTQgB1D"
      }
    },
    {
      "cell_type": "code",
      "source": [
        "import csv\n",
        "\n",
        "# Load dataset for user profile, alternate products, and ingredients\n",
        "dataset_path = \"Energy Drinks.csv\"\n",
        "user_profile = {}\n",
        "alternate_products_db = {}\n",
        "ingredient_list = []\n",
        "\n",
        "with open(dataset_path, newline='') as csvfile:\n",
        "    reader = csv.DictReader(csvfile)\n",
        "    for row in reader:\n",
        "        if row[\"S.No\"] == \"User Profile\":\n",
        "            user_profile[\"name\"] = row[\"Energy Drink\"]\n",
        "            user_profile[\"diabetic\"] = True if row[\"Diabetic Threshold (per serving)\"] == \"Yes\" else False\n",
        "            user_profile[\"health_preferences\"] = [\n",
        "                \"Sugar\",\n",
        "                \"Salt\",\n",
        "                \"Trans Fat\",\n",
        "                \"Sodium\",\n",
        "                # Add more preferences based on user's requirements\n",
        "            ]\n",
        "            user_profile[\"safe_limits\"] = {\n",
        "                \"Sugar\": float(row[\"Thresholds for Diabetes Mellitus (per serving)\"]),\n",
        "                \"Salt\": float(row[\"Thresholds for Cardiovascular Diseases\"]),\n",
        "                \"Trans Fat\": float(row[\"Thresholds for Diabetes Mellitus (per serving)\"]),\n",
        "                \"Sodium\": float(row[\"Thresholds for Cardiovascular Diseases\"]),\n",
        "                # Add more substances and their limits based on the user's requirements\n",
        "            }\n",
        "        elif row[\"S.No\"] == \"Alternate Products\":\n",
        "            product_name = row[\"Energy Drink\"]\n",
        "            alternate_products_db[product_name] = {\n",
        "                \"Ingredients\": [ingredient.strip() for ingredient in row[\"Alternative Ingredient List\"].split(\",\")],\n",
        "                \"Sugar\": float(row[\"Thresholds for Diabetes Mellitus (per serving)\"]),\n",
        "                \"Salt\": float(row[\"Thresholds for Cardiovascular Diseases\"]),\n",
        "                \"Trans Fat\": float(row[\"Thresholds for Diabetes Mellitus (per serving)\"]),\n",
        "                \"Sodium\": float(row[\"Thresholds for Cardiovascular Diseases\"]),\n",
        "                # Add more attributes from the dataset\n",
        "            }\n",
        "        else:\n",
        "            ingredient = {\n",
        "                \"name\": row[\"Ingredients List\"],\n",
        "                \"quantity\": float(row[\"Levels of Each Ingredient\"]),\n",
        "                \"unit\": \"g\" if row[\"Levels of Each Ingredient\"].isdigit() else row[\"Levels of Each Ingredient\"].split()[1],\n",
        "            }\n",
        "            ingredient_list.append(ingredient)\n",
        "\n",
        "\n",
        "\n",
        "# Function to suggest alternate products\n",
        "def suggest_alternate_products(user_profile, alternate_products_db):\n",
        "    ranked_substitutes = []\n",
        "\n",
        "    for product, attributes in alternate_products_db.items():\n",
        "        substitute_rank = 0\n",
        "        for preference in user_profile[\"health_preferences\"]:\n",
        "            if attributes[preference] <= user_profile[\"safe_limits\"][preference]:\n",
        "                substitute_rank += 1\n",
        "\n",
        "        ranked_substitutes.append((product, substitute_rank))\n",
        "\n",
        "    ranked_substitutes.sort(key=lambda x: x[1], reverse=True)\n",
        "    return ranked_substitutes\n",
        "\n",
        "# Suggest alternate products\n",
        "alternate_substitutes = suggest_alternate_products(user_profile, alternate_products_db)\n",
        "\n",
        "print(\"Ranked Alternate Substitutes:\")\n",
        "for product, rank in alternate_substitutes:\n",
        "    print(f\"{product}: Rank - {rank}\")\n"
      ],
      "metadata": {
        "id": "DB_0gpvgGTuv"
      },
      "execution_count": null,
      "outputs": []
    },
    {
      "cell_type": "markdown",
      "source": [
        "<hr>"
      ],
      "metadata": {
        "id": "HE9WzjOggGkH"
      }
    },
    {
      "cell_type": "markdown",
      "source": [
        "**Enhancement 4 : Read expiry date and give proper suggestion:**"
      ],
      "metadata": {
        "id": "l9EUnkEPgIad"
      }
    },
    {
      "cell_type": "markdown",
      "source": [
        "**Details:** Enhancement 4 introduces a pivotal advancement that redefines consumer safety and confidence: a sophisticated feature designed to read and interpret expiry dates, offering users informed suggestions for appropriate actions. This cutting-edge mechanism harnesses technological innovation to empower users in making more informed consumption decisions.\n",
        "\n",
        "At its core, this enhancement employs advanced image recognition and machine learning algorithms to accurately read and decipher expiry dates on food products. Once the date is processed, the system provides tailored recommendations based on the proximity to the stated expiration date. For instance, if a product is nearing its expiry, the system could suggest immediate consumption or proper disposal.\n",
        "\n",
        "This proactive approach not only mitigates the risk of ingesting expired products but also minimizes food wastage, contributing to both consumer well-being and sustainability efforts. The technology extends beyond mere detection, as it educates users about the significance of expiry dates and the implications of consuming expired goods.\n",
        "\n",
        "By intertwining technology with practical application, this enhancement underscores our commitment to revolutionizing food safety. It places information and empowerment directly in the hands of consumers, ensuring they make choices that align with their health and ethical values. Ultimately, this feature exemplifies the potential of innovation in fostering a safer and more conscientious food consumption culture."
      ],
      "metadata": {
        "id": "XvcCnxDGgOiC"
      }
    },
    {
      "cell_type": "code",
      "source": [
        "import csv\n",
        "from datetime import datetime\n",
        "\n",
        "# Load dataset for expiry dates\n",
        "dataset_path = \"Energy Drinks.csv\"\n",
        "expiry_date_dataset = {}\n",
        "\n",
        "with open(dataset_path, newline='') as csvfile:\n",
        "    reader = csv.DictReader(csvfile)\n",
        "    for row in reader:\n",
        "        if row[\"S.No\"] == \"Expiry Dates\":\n",
        "            product_name = row[\"Energy Drink\"]\n",
        "            expiry_date_dataset[product_name] = row[\"Diabetic Threshold (per serving)\"]\n",
        "\n",
        "# Current date (replace with the actual current date)\n",
        "current_date = \"2023-09-01\"\n",
        "\n",
        "# Function to suggest expiry suggestions\n",
        "def suggest_expiry_suggestions(expiry_date_dataset, current_date):\n",
        "    expiry_suggestions = []\n",
        "\n",
        "    for product, expiry_date in expiry_date_dataset.items():\n",
        "        expiry_date_obj = datetime.strptime(expiry_date, \"%Y-%m-%d\")\n",
        "        current_date_obj = datetime.strptime(current_date, \"%Y-%m-%d\")\n",
        "\n",
        "        days_until_expiry = (expiry_date_obj - current_date_obj).days\n",
        "\n",
        "        if days_until_expiry <= 7:\n",
        "            if days_until_expiry < 0:\n",
        "                suggestion = f\"{product} has expired. Please discard it.\"\n",
        "            else:\n",
        "                suggestion = f\"{product} is expiring soon (in {days_until_expiry} days). Consider using it.\"\n",
        "\n",
        "            expiry_suggestions.append(suggestion)\n",
        "\n",
        "    return expiry_suggestions\n",
        "\n",
        "# Get expiry suggestions\n",
        "expiry_suggestions = suggest_expiry_suggestions(expiry_date_dataset, current_date)\n",
        "\n",
        "print(\"Expiry Suggestions:\")\n",
        "for suggestion in expiry_suggestions:\n",
        "    print(suggestion)\n"
      ],
      "metadata": {
        "id": "LDjJCXHLHGx0"
      },
      "execution_count": null,
      "outputs": []
    },
    {
      "cell_type": "markdown",
      "source": [
        "<hr>"
      ],
      "metadata": {
        "id": "jgtxQ5fJgSM1"
      }
    },
    {
      "cell_type": "markdown",
      "source": [
        "**Enhancement 5 : Food Safety Resources:**\n",
        "\n",
        "*Description : Compile and provide a comprehensive collection of resources, including guidelines, research papers, reports, and best practice documents related to food safety. Users can access these resources for reference and further study.*\n",
        "\n"
      ],
      "metadata": {
        "id": "a1YJYe7IgTsN"
      }
    },
    {
      "cell_type": "markdown",
      "source": [
        "**Details:** Enhancement 5 introduces an invaluable resource that empowers users with knowledge and insights crucial to their well-being: a meticulously curated compilation of Food Safety Resources. This innovative feature serves as a repository of guidelines, research papers, reports, and best practice documents meticulously selected to foster informed decision-making and heightened awareness.\n",
        "\n",
        "Designed to be user-centric, this enhancement grants users unrestricted access to a wealth of information directly relevant to food safety. By offering a centralized hub of diverse resources, ranging from authoritative guidelines to pioneering research, individuals are empowered to delve deeper into the intricacies of safe food consumption.\n",
        "\n",
        "The interface seamlessly connects users with a treasure trove of educational materials, each meticulously chosen to cater to different levels of comprehension and interest. From those seeking fundamental guidelines to experts pursuing advanced studies, the collection covers the spectrum of food safety insights.\n",
        "\n",
        "This comprehensive resource not only bolsters user knowledge but also cultivates a culture of informed consumption and safety consciousness. By placing a vast array of resources at users' fingertips, this enhancement elevates their understanding and appreciation of the nuances of food safety, ultimately contributing to their overall well-being. As a testament to our commitment to user-centric innovation, this feature is poised to become an indispensable tool in fostering a safer and more educated approach to food choices."
      ],
      "metadata": {
        "id": "QFtnqpf7gZ7m"
      }
    },
    {
      "cell_type": "code",
      "source": [
        "import csv\n",
        "\n",
        "# Load dataset for food safety resources\n",
        "dataset_path = \"Energy Drinks.csv\"\n",
        "food_safety_resources = {}\n",
        "\n",
        "with open(dataset_path, newline='') as csvfile:\n",
        "    reader = csv.DictReader(csvfile)\n",
        "    for row in reader:\n",
        "        if row[\"S.No\"] == \"Food Safety Resources\":\n",
        "            resource_name = row[\"Energy Drink\"]\n",
        "            resource_url = row[\"Alternative Ingredient List\"]\n",
        "            food_safety_resources[resource_name] = resource_url\n",
        "\n",
        "# Function to display food safety resources\n",
        "def display_food_safety_resources(food_safety_resources):\n",
        "    print(\"Food Safety Resources:\")\n",
        "    for resource, url in food_safety_resources.items():\n",
        "        print(f\"{resource}: {url}\")\n",
        "\n",
        "# Display food safety resources\n",
        "display_food_safety_resources(food_safety_resources)\n"
      ],
      "metadata": {
        "id": "8AL4lcqhH09v"
      },
      "execution_count": null,
      "outputs": []
    },
    {
      "cell_type": "markdown",
      "source": [
        "<hr>"
      ],
      "metadata": {
        "id": "fMpWFf-EgdKQ"
      }
    }
  ]
}